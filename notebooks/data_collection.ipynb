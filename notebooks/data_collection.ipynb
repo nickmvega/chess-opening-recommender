{
 "cells": [
  {
   "cell_type": "markdown",
   "id": "191e2fcf",
   "metadata": {},
   "source": [
    "# Chess Opening Recommender : Data Collection "
   ]
  },
  {
   "cell_type": "markdown",
   "id": "0edfa441",
   "metadata": {},
   "source": [
    "## Overview \n",
    "This phase focuses on gathering the raw game data we need from Lichess and external sources:\n",
    "- Fetching a target user’s recent games (PGN with evaluations & ECO tags).\n",
    "- Loading a reference dataset of elite (2400+) player games."
   ]
  },
  {
   "cell_type": "markdown",
   "id": "c7f5393a",
   "metadata": {},
   "source": [
    "## Objective\n",
    "Build a reusable data‐fetching pipeline that:\n",
    "1. Retrieves and stores Lichess game data.\n",
    "2. Parses PGN files into a pandas dataframe\n",
    "3. Allows any username to be processed identically."
   ]
  },
  {
   "cell_type": "markdown",
   "id": "84462d63",
   "metadata": {},
   "source": [
    "\n",
    "## Purpose\n",
    "By the end of this notebook, you should have:\n",
    "- A DataFrame of the user’s games (`user_games_df`).\n",
    "- A DataFrame of sampled elite games (`elite_df`).\n",
    "- All functions modularized and ready to import from `recommender/data_fetcher.py` for downstream analysis."
   ]
  },
  {
   "cell_type": "code",
   "execution_count": 5,
   "id": "e1a12610",
   "metadata": {},
   "outputs": [],
   "source": [
    "import os\n",
    "import io\n",
    "import requests\n",
    "from pathlib import Path\n",
    "from typing import Optional\n",
    "import chess.pgn\n",
    "import pandas as pd\n",
    "from tqdm import tqdm"
   ]
  },
  {
   "cell_type": "code",
   "execution_count": 19,
   "id": "cf4ebad5",
   "metadata": {},
   "outputs": [],
   "source": [
    "LICHESS_TOKEN = \"lip_876jLfUbVLzQQE4wOmPJ\"\n",
    "HEADERS = {\"Authorization\": f\"Bearer {LICHESS_TOKEN}\"}\n",
    "DATA_DIR = Path(\"/Users/nicholasvega/Downloads/chess-opening-recommender/src/data\")"
   ]
  },
  {
   "cell_type": "markdown",
   "id": "4bb87ec1",
   "metadata": {},
   "source": [
    "## Fetch a users games from Lichess"
   ]
  },
  {
   "cell_type": "markdown",
   "id": "52e25bd8",
   "metadata": {},
   "source": [
    "### 1.1 Fetch User Games from Lichess\n",
    "\n",
    "Define `fetch_user_games(username, max_games, save_to)`:\n",
    "\n",
    "1. Builds the request to `https://lichess.org/api/games/user/{username}`, asking for up to `max_games` games, full move lists, engine evaluations, and ECO tags in PGN format.\n",
    "2. Handles the HTTP response, raising an error if something goes wrong.\n",
    "3. Returns the raw PGN text and optionally saves it to disk for later reuse."
   ]
  },
  {
   "cell_type": "code",
   "execution_count": 3,
   "id": "1b61beff",
   "metadata": {},
   "outputs": [],
   "source": [
    "def fetch_user_games(username: str,\n",
    "                    max_games: int = 300,\n",
    "                    save_to: Path | None = None) -> str:\n",
    "    \"\"\"\n",
    "    Fetch up to `max_games` recent games for a Lichess user as PGN (with evals & ECO).\n",
    "    Optionally saves the PGN to disk if `save_to` is provided.\n",
    "    Returns the PGN text as a string.\n",
    "    \"\"\"\n",
    "    url = f\"https://lichess.org/api/games/user/{username}\"\n",
    "    params = {\n",
    "        \"max\": max_games,\n",
    "        \"moves\": \"true\",\n",
    "        \"evals\": \"true\",\n",
    "        \"opening\": \"true\",\n",
    "        \"clocks\": \"false\",\n",
    "        \"format\": \"pgn\",\n",
    "    }\n",
    "    try:\n",
    "        response = requests.get(url, headers=HEADERS, params=params, stream=True, timeout=30)\n",
    "        response.raise_for_status()\n",
    "        pgn_text = response.text\n",
    "        if save_to:\n",
    "            save_to.write_text(pgn_text, encoding=\"utf-8\")\n",
    "        return pgn_text\n",
    "    except requests.RequestException as e:\n",
    "        print(f\"Error fetching games for {username}: {e}\")\n",
    "        return \"\""
   ]
  },
  {
   "cell_type": "markdown",
   "id": "9e869f04",
   "metadata": {},
   "source": [
    "### 1.1a Useage example of fetch_user_games"
   ]
  },
  {
   "cell_type": "code",
   "execution_count": 4,
   "id": "5b9ac479",
   "metadata": {},
   "outputs": [
    {
     "name": "stdout",
     "output_type": "stream",
     "text": [
      "Fetched 389.0 KB of PGN → /Users/nicholasvega/Downloads/chess-opening-recommender/src/data/Chessanonymous1_games.pgn\n"
     ]
    }
   ],
   "source": [
    "USERNAME  = \"Chessanonymous1\"\n",
    "SAVE_PATH = Path(\"/Users/nicholasvega/Downloads/chess-opening-recommender/src/data\") / f\"{USERNAME}_games.pgn\"\n",
    "\n",
    "pgn_text  = fetch_user_games(USERNAME, max_games=300, save_to=SAVE_PATH)\n",
    "print(f\"Fetched {len(pgn_text)//1024:.1f} KB of PGN → {SAVE_PATH}\")"
   ]
  },
  {
   "cell_type": "markdown",
   "id": "379b4a7e",
   "metadata": {},
   "source": [
    "### 1.1b example output"
   ]
  },
  {
   "cell_type": "markdown",
   "id": "b57d586a",
   "metadata": {},
   "source": [
    "[Event \"rated blitz game\"]\n",
    "[Site \"https://lichess.org/TdpWM9JA\"]\n",
    "[Date \"2025.07.22\"]\n",
    "[White \"Chessanonymous1\"]\n",
    "[Black \"yasinka2016\"]\n",
    "[Result \"0-1\"]\n",
    "[GameId \"TdpWM9JA\"]\n",
    "[UTCDate \"2025.07.22\"]\n",
    "[UTCTime \"03:05:34\"]\n",
    "[WhiteElo \"2455\"]\n",
    "[BlackElo \"2423\"]\n",
    "[WhiteRatingDiff \"-6\"]\n",
    "[BlackRatingDiff \"+6\"]\n",
    "[BlackTitle \"FM\"]\n",
    "[Variant \"Standard\"]\n",
    "[TimeControl \"180+0\"]\n",
    "[ECO \"D00\"]\n",
    "[Opening \"Queen's Pawn Game: Levitsky Attack\"]\n",
    "[Termination \"Time forfeit\"]"
   ]
  },
  {
   "cell_type": "markdown",
   "id": "16e1bdd2",
   "metadata": {},
   "source": [
    "A quick profile snapshot (ratings per time‑control, total games, creation date) gives contextual metadata:\n",
    "\n",
    "* Confirms you fetched the correct account.  \n",
    "* Lets you log the user’s current strength, which can be handy when interpreting engine accuracy metrics later.  "
   ]
  },
  {
   "cell_type": "code",
   "execution_count": null,
   "id": "54bd856a",
   "metadata": {},
   "outputs": [
    {
     "name": "stdout",
     "output_type": "stream",
     "text": [
      "{'ultraBullet': 1607, 'bullet': 2686, 'blitz': 2499, 'rapid': 2447, 'classical': 1500, 'correspondence': 1500, 'chess960': 2141, 'puzzle': 2519}\n"
     ]
    }
   ],
   "source": [
    "def get_user_profile(username: str) -> dict:\n",
    "    url = f\"https://lichess.org/api/user/{username}\"\n",
    "    r = requests.get(url, headers=HEADERS, timeout=10)\n",
    "    r.raise_for_status()\n",
    "    return r.json()\n"
   ]
  },
  {
   "cell_type": "markdown",
   "id": "7d09f940",
   "metadata": {},
   "source": [
    "## 1.2 PGN game to dataframe"
   ]
  },
  {
   "cell_type": "code",
   "execution_count": 6,
   "id": "935acd29",
   "metadata": {},
   "outputs": [],
   "source": [
    "def pgn_to_games_df(pgn_text: str) -> pd.DataFrame:\n",
    "    \"\"\"\n",
    "    Parse a multi-game PGN string into a DataFrame.\n",
    "    Columns: white, black, result, eco, opening,\n",
    "             utc_date, utc_time, time_control, moves (list), evals (list)\n",
    "    \"\"\"\n",
    "    records = []\n",
    "    stream = io.StringIO(pgn_text)\n",
    "    while True:\n",
    "        game = chess.pgn.read_game(stream)\n",
    "        if game is None:\n",
    "            break\n",
    "        hdr = game.headers\n",
    "        moves, evals = [], []\n",
    "        node = game\n",
    "        while node.variations:\n",
    "            nxt = node.variation(0)\n",
    "            moves.append(nxt.move.uci())\n",
    "            if hasattr(nxt, \"eval\") and nxt.eval is not None:\n",
    "                evals.append(nxt.eval)\n",
    "            node = nxt\n",
    "        records.append({\n",
    "            \"white\":        hdr.get(\"White\"),\n",
    "            \"black\":        hdr.get(\"Black\"),\n",
    "            \"result\":       hdr.get(\"Result\"),\n",
    "            \"eco\":          hdr.get(\"ECO\"),\n",
    "            \"opening\":      hdr.get(\"Opening\"),\n",
    "            \"utc_date\":     hdr.get(\"UTCDate\"),\n",
    "            \"utc_time\":     hdr.get(\"UTCTime\"),\n",
    "            \"time_control\": hdr.get(\"TimeControl\"),\n",
    "            \"moves\":        moves,\n",
    "            \"evals\":        evals,\n",
    "        })\n",
    "    return pd.DataFrame(records)\n"
   ]
  },
  {
   "cell_type": "markdown",
   "id": "f5b3a396",
   "metadata": {},
   "source": [
    "### 1.2a User PGN game to dataframe"
   ]
  },
  {
   "cell_type": "code",
   "execution_count": 8,
   "id": "1a2e14e2",
   "metadata": {},
   "outputs": [],
   "source": [
    "def parse_user_pgn(pgn_text: str) -> pd.DataFrame:\n",
    "    \"\"\"\n",
    "    Given raw PGN text of a user’s games, return a DataFrame of parsed games.\n",
    "    \"\"\"\n",
    "    df = pgn_to_games_df(pgn_text)\n",
    "    return df"
   ]
  },
  {
   "cell_type": "markdown",
   "id": "916aff32",
   "metadata": {},
   "source": [
    "Example usage"
   ]
  },
  {
   "cell_type": "code",
   "execution_count": 9,
   "id": "26c2f7a1",
   "metadata": {},
   "outputs": [
    {
     "name": "stdout",
     "output_type": "stream",
     "text": [
      "User games parsed: 300\n"
     ]
    },
    {
     "data": {
      "text/html": [
       "<div>\n",
       "<style scoped>\n",
       "    .dataframe tbody tr th:only-of-type {\n",
       "        vertical-align: middle;\n",
       "    }\n",
       "\n",
       "    .dataframe tbody tr th {\n",
       "        vertical-align: top;\n",
       "    }\n",
       "\n",
       "    .dataframe thead th {\n",
       "        text-align: right;\n",
       "    }\n",
       "</style>\n",
       "<table border=\"1\" class=\"dataframe\">\n",
       "  <thead>\n",
       "    <tr style=\"text-align: right;\">\n",
       "      <th></th>\n",
       "      <th>white</th>\n",
       "      <th>black</th>\n",
       "      <th>result</th>\n",
       "      <th>eco</th>\n",
       "      <th>opening</th>\n",
       "      <th>utc_date</th>\n",
       "      <th>utc_time</th>\n",
       "      <th>time_control</th>\n",
       "      <th>moves</th>\n",
       "      <th>evals</th>\n",
       "    </tr>\n",
       "  </thead>\n",
       "  <tbody>\n",
       "    <tr>\n",
       "      <th>0</th>\n",
       "      <td>Chessanonymous1</td>\n",
       "      <td>yasinka2016</td>\n",
       "      <td>0-1</td>\n",
       "      <td>D00</td>\n",
       "      <td>Queen's Pawn Game: Levitsky Attack</td>\n",
       "      <td>2025.07.22</td>\n",
       "      <td>03:05:34</td>\n",
       "      <td>180+0</td>\n",
       "      <td>[d2d4, d7d5, c1g5, h7h6, g5h4, c7c6, c2c3, d8b...</td>\n",
       "      <td>[&lt;bound method GameNode.eval of &lt;ChildNode at ...</td>\n",
       "    </tr>\n",
       "    <tr>\n",
       "      <th>1</th>\n",
       "      <td>Jaybeth</td>\n",
       "      <td>Chessanonymous1</td>\n",
       "      <td>0-1</td>\n",
       "      <td>B12</td>\n",
       "      <td>Caro-Kann Defense: Modern Variation</td>\n",
       "      <td>2025.07.20</td>\n",
       "      <td>17:37:33</td>\n",
       "      <td>180+0</td>\n",
       "      <td>[e2e4, c7c6, d2d4, d7d5, b1d2, a7a6, e4e5, c8f...</td>\n",
       "      <td>[&lt;bound method GameNode.eval of &lt;ChildNode at ...</td>\n",
       "    </tr>\n",
       "    <tr>\n",
       "      <th>2</th>\n",
       "      <td>Chessanonymous1</td>\n",
       "      <td>BrusnacK</td>\n",
       "      <td>0-1</td>\n",
       "      <td>A40</td>\n",
       "      <td>Horwitz Defense</td>\n",
       "      <td>2025.07.20</td>\n",
       "      <td>17:34:44</td>\n",
       "      <td>180+0</td>\n",
       "      <td>[d2d4, e7e6, c1g5, d8g5, g1f3, g5d8, e2e3, d7d...</td>\n",
       "      <td>[&lt;bound method GameNode.eval of &lt;ChildNode at ...</td>\n",
       "    </tr>\n",
       "    <tr>\n",
       "      <th>3</th>\n",
       "      <td>Chessanonymous1</td>\n",
       "      <td>Countryside</td>\n",
       "      <td>0-1</td>\n",
       "      <td>D00</td>\n",
       "      <td>Queen's Pawn Game: Levitsky Attack</td>\n",
       "      <td>2025.07.20</td>\n",
       "      <td>16:34:23</td>\n",
       "      <td>180+0</td>\n",
       "      <td>[d2d4, d7d5, c1g5, b8c6, f2f4, c8f5, e2e3, d8d...</td>\n",
       "      <td>[&lt;bound method GameNode.eval of &lt;ChildNode at ...</td>\n",
       "    </tr>\n",
       "    <tr>\n",
       "      <th>4</th>\n",
       "      <td>Countryside</td>\n",
       "      <td>Chessanonymous1</td>\n",
       "      <td>1-0</td>\n",
       "      <td>A00</td>\n",
       "      <td>Kádas Opening</td>\n",
       "      <td>2025.07.20</td>\n",
       "      <td>16:29:42</td>\n",
       "      <td>180+0</td>\n",
       "      <td>[h2h4, d7d5, h4h5, c7c6, d2d4, c8f5, g1f3, b8d...</td>\n",
       "      <td>[&lt;bound method GameNode.eval of &lt;ChildNode at ...</td>\n",
       "    </tr>\n",
       "  </tbody>\n",
       "</table>\n",
       "</div>"
      ],
      "text/plain": [
       "             white            black result  eco  \\\n",
       "0  Chessanonymous1      yasinka2016    0-1  D00   \n",
       "1          Jaybeth  Chessanonymous1    0-1  B12   \n",
       "2  Chessanonymous1         BrusnacK    0-1  A40   \n",
       "3  Chessanonymous1      Countryside    0-1  D00   \n",
       "4      Countryside  Chessanonymous1    1-0  A00   \n",
       "\n",
       "                               opening    utc_date  utc_time time_control  \\\n",
       "0   Queen's Pawn Game: Levitsky Attack  2025.07.22  03:05:34        180+0   \n",
       "1  Caro-Kann Defense: Modern Variation  2025.07.20  17:37:33        180+0   \n",
       "2                      Horwitz Defense  2025.07.20  17:34:44        180+0   \n",
       "3   Queen's Pawn Game: Levitsky Attack  2025.07.20  16:34:23        180+0   \n",
       "4                        Kádas Opening  2025.07.20  16:29:42        180+0   \n",
       "\n",
       "                                               moves  \\\n",
       "0  [d2d4, d7d5, c1g5, h7h6, g5h4, c7c6, c2c3, d8b...   \n",
       "1  [e2e4, c7c6, d2d4, d7d5, b1d2, a7a6, e4e5, c8f...   \n",
       "2  [d2d4, e7e6, c1g5, d8g5, g1f3, g5d8, e2e3, d7d...   \n",
       "3  [d2d4, d7d5, c1g5, b8c6, f2f4, c8f5, e2e3, d8d...   \n",
       "4  [h2h4, d7d5, h4h5, c7c6, d2d4, c8f5, g1f3, b8d...   \n",
       "\n",
       "                                               evals  \n",
       "0  [<bound method GameNode.eval of <ChildNode at ...  \n",
       "1  [<bound method GameNode.eval of <ChildNode at ...  \n",
       "2  [<bound method GameNode.eval of <ChildNode at ...  \n",
       "3  [<bound method GameNode.eval of <ChildNode at ...  \n",
       "4  [<bound method GameNode.eval of <ChildNode at ...  "
      ]
     },
     "metadata": {},
     "output_type": "display_data"
    }
   ],
   "source": [
    "user_games_df = parse_user_pgn(pgn_text)\n",
    "print(f\"User games parsed: {len(user_games_df)}\")\n",
    "display(user_games_df.head())"
   ]
  },
  {
   "cell_type": "markdown",
   "id": "7898d072",
   "metadata": {},
   "source": [
    "### 1.2b Parse elite pgn games to dataframe"
   ]
  },
  {
   "cell_type": "code",
   "execution_count": 15,
   "id": "29e7ed5c",
   "metadata": {},
   "outputs": [],
   "source": [
    "def parse_elite_pgn_fast(pgn_path: Path, n_games: int = 500) -> pd.DataFrame:\n",
    "    \"\"\"\n",
    "    Faster version: stream the first `n_games` from the elite PGN file at `pgn_path`,\n",
    "    parse each Game directly into a dict (headers + moves + evals) and return a DataFrame.\n",
    "    This avoids re‑serializing to PGN and re‑parsing, roughly halving the work.\n",
    "    \"\"\"\n",
    "    records = []\n",
    "    with pgn_path.open(encoding=\"utf-8\", errors=\"ignore\") as fh:\n",
    "        for _ in tqdm(range(n_games), desc=\"Parsing elite PGN\"):\n",
    "            game = chess.pgn.read_game(fh)\n",
    "            if game is None:\n",
    "                break\n",
    "\n",
    "            hdr = game.headers\n",
    "            moves, evals = [], []\n",
    "            node = game\n",
    "            while node.variations:\n",
    "                nxt = node.variation(0)\n",
    "                moves.append(nxt.move.uci())\n",
    "                if hasattr(nxt, \"eval\") and nxt.eval is not None:\n",
    "                    evals.append(nxt.eval)\n",
    "                node = nxt\n",
    "\n",
    "            records.append({\n",
    "                \"white\":        hdr.get(\"White\"),\n",
    "                \"black\":        hdr.get(\"Black\"),\n",
    "                \"result\":       hdr.get(\"Result\"),\n",
    "                \"eco\":          hdr.get(\"ECO\"),\n",
    "                \"opening\":      hdr.get(\"Opening\", \"\"),\n",
    "                \"utc_date\":     hdr.get(\"UTCDate\"),\n",
    "                \"utc_time\":     hdr.get(\"UTCTime\"),\n",
    "                \"time_control\": hdr.get(\"TimeControl\"),\n",
    "                \"moves\":        moves,\n",
    "                \"evals\":        evals,\n",
    "            })\n",
    "\n",
    "    return pd.DataFrame(records)"
   ]
  },
  {
   "cell_type": "markdown",
   "id": "17731435",
   "metadata": {},
   "source": [
    "Example usage "
   ]
  },
  {
   "cell_type": "code",
   "execution_count": 16,
   "id": "02263bcc",
   "metadata": {},
   "outputs": [
    {
     "name": "stderr",
     "output_type": "stream",
     "text": [
      "Parsing elite PGN: 100%|██████████| 500/500 [00:00<00:00, 1120.94it/s]\n"
     ]
    },
    {
     "name": "stdout",
     "output_type": "stream",
     "text": [
      "Fast parse took 0.4s — parsed 500 games\n"
     ]
    },
    {
     "data": {
      "text/html": [
       "<div>\n",
       "<style scoped>\n",
       "    .dataframe tbody tr th:only-of-type {\n",
       "        vertical-align: middle;\n",
       "    }\n",
       "\n",
       "    .dataframe tbody tr th {\n",
       "        vertical-align: top;\n",
       "    }\n",
       "\n",
       "    .dataframe thead th {\n",
       "        text-align: right;\n",
       "    }\n",
       "</style>\n",
       "<table border=\"1\" class=\"dataframe\">\n",
       "  <thead>\n",
       "    <tr style=\"text-align: right;\">\n",
       "      <th></th>\n",
       "      <th>white</th>\n",
       "      <th>black</th>\n",
       "      <th>result</th>\n",
       "      <th>eco</th>\n",
       "      <th>opening</th>\n",
       "      <th>utc_date</th>\n",
       "      <th>utc_time</th>\n",
       "      <th>time_control</th>\n",
       "      <th>moves</th>\n",
       "      <th>evals</th>\n",
       "    </tr>\n",
       "  </thead>\n",
       "  <tbody>\n",
       "    <tr>\n",
       "      <th>0</th>\n",
       "      <td>eNErGyOFbEiNGbOT</td>\n",
       "      <td>Nikitosik-ai</td>\n",
       "      <td>1/2-1/2</td>\n",
       "      <td>A00</td>\n",
       "      <td>Clemenz Opening</td>\n",
       "      <td>2025.05.01</td>\n",
       "      <td>00:00:15</td>\n",
       "      <td>180+0</td>\n",
       "      <td>[h2h3, e7e5, e2e4, g8f6, b1c3, f8b4, a2a3, b4a...</td>\n",
       "      <td>[&lt;bound method GameNode.eval of &lt;ChildNode at ...</td>\n",
       "    </tr>\n",
       "    <tr>\n",
       "      <th>1</th>\n",
       "      <td>Chessanonymous1</td>\n",
       "      <td>Ariel_mlr</td>\n",
       "      <td>1-0</td>\n",
       "      <td>A45</td>\n",
       "      <td>Trompowsky Attack</td>\n",
       "      <td>2025.05.01</td>\n",
       "      <td>00:00:54</td>\n",
       "      <td>180+0</td>\n",
       "      <td>[d2d4, g8f6, c1g5, d7d5, g5f6, e7f6, e2e3, f8d...</td>\n",
       "      <td>[&lt;bound method GameNode.eval of &lt;ChildNode at ...</td>\n",
       "    </tr>\n",
       "    <tr>\n",
       "      <th>2</th>\n",
       "      <td>Kyreds_pet</td>\n",
       "      <td>OlympusCz</td>\n",
       "      <td>1-0</td>\n",
       "      <td>B90</td>\n",
       "      <td>Sicilian Defense: Najdorf Variation, English A...</td>\n",
       "      <td>2025.05.01</td>\n",
       "      <td>00:00:45</td>\n",
       "      <td>180+0</td>\n",
       "      <td>[e2e4, c7c5, g1f3, d7d6, d2d4, c5d4, f3d4, g8f...</td>\n",
       "      <td>[&lt;bound method GameNode.eval of &lt;ChildNode at ...</td>\n",
       "    </tr>\n",
       "    <tr>\n",
       "      <th>3</th>\n",
       "      <td>rtahmass</td>\n",
       "      <td>Mettigel</td>\n",
       "      <td>0-1</td>\n",
       "      <td>C72</td>\n",
       "      <td>Ruy Lopez: Morphy Defense, Modern Steinitz Def...</td>\n",
       "      <td>2025.05.01</td>\n",
       "      <td>00:01:09</td>\n",
       "      <td>180+0</td>\n",
       "      <td>[e2e4, e7e5, g1f3, b8c6, f1b5, a7a6, b5a4, d7d...</td>\n",
       "      <td>[&lt;bound method GameNode.eval of &lt;ChildNode at ...</td>\n",
       "    </tr>\n",
       "    <tr>\n",
       "      <th>4</th>\n",
       "      <td>CruelKen</td>\n",
       "      <td>tomlesspit</td>\n",
       "      <td>1/2-1/2</td>\n",
       "      <td>D38</td>\n",
       "      <td>Queen's Gambit Declined: Ragozin Defense, Alek...</td>\n",
       "      <td>2025.05.01</td>\n",
       "      <td>00:01:12</td>\n",
       "      <td>180+2</td>\n",
       "      <td>[g1f3, d7d5, d2d4, g8f6, c2c4, e7e6, b1c3, f8b...</td>\n",
       "      <td>[&lt;bound method GameNode.eval of &lt;ChildNode at ...</td>\n",
       "    </tr>\n",
       "  </tbody>\n",
       "</table>\n",
       "</div>"
      ],
      "text/plain": [
       "              white         black   result  eco  \\\n",
       "0  eNErGyOFbEiNGbOT  Nikitosik-ai  1/2-1/2  A00   \n",
       "1   Chessanonymous1     Ariel_mlr      1-0  A45   \n",
       "2        Kyreds_pet     OlympusCz      1-0  B90   \n",
       "3          rtahmass      Mettigel      0-1  C72   \n",
       "4          CruelKen    tomlesspit  1/2-1/2  D38   \n",
       "\n",
       "                                             opening    utc_date  utc_time  \\\n",
       "0                                    Clemenz Opening  2025.05.01  00:00:15   \n",
       "1                                  Trompowsky Attack  2025.05.01  00:00:54   \n",
       "2  Sicilian Defense: Najdorf Variation, English A...  2025.05.01  00:00:45   \n",
       "3  Ruy Lopez: Morphy Defense, Modern Steinitz Def...  2025.05.01  00:01:09   \n",
       "4  Queen's Gambit Declined: Ragozin Defense, Alek...  2025.05.01  00:01:12   \n",
       "\n",
       "  time_control                                              moves  \\\n",
       "0        180+0  [h2h3, e7e5, e2e4, g8f6, b1c3, f8b4, a2a3, b4a...   \n",
       "1        180+0  [d2d4, g8f6, c1g5, d7d5, g5f6, e7f6, e2e3, f8d...   \n",
       "2        180+0  [e2e4, c7c5, g1f3, d7d6, d2d4, c5d4, f3d4, g8f...   \n",
       "3        180+0  [e2e4, e7e5, g1f3, b8c6, f1b5, a7a6, b5a4, d7d...   \n",
       "4        180+2  [g1f3, d7d5, d2d4, g8f6, c2c4, e7e6, b1c3, f8b...   \n",
       "\n",
       "                                               evals  \n",
       "0  [<bound method GameNode.eval of <ChildNode at ...  \n",
       "1  [<bound method GameNode.eval of <ChildNode at ...  \n",
       "2  [<bound method GameNode.eval of <ChildNode at ...  \n",
       "3  [<bound method GameNode.eval of <ChildNode at ...  \n",
       "4  [<bound method GameNode.eval of <ChildNode at ...  "
      ]
     },
     "metadata": {},
     "output_type": "display_data"
    }
   ],
   "source": [
    "ELITE_PGN = Path(\"/Users/nicholasvega/Downloads/chess-opening-recommender/src/data/lichess_elite_2025-05.pgn\")\n",
    "\n",
    "import time\n",
    "start = time.time()\n",
    "elite_df = parse_elite_pgn_fast(ELITE_PGN, n_games=500)\n",
    "print(f\"Fast parse took {time.time() - start:.1f}s — parsed {len(elite_df)} games\")\n",
    "display(elite_df.head())"
   ]
  },
  {
   "cell_type": "markdown",
   "id": "7551f9a2",
   "metadata": {},
   "source": [
    "## 1.3 Fetch user profile "
   ]
  },
  {
   "cell_type": "code",
   "execution_count": 17,
   "id": "6e19f217",
   "metadata": {},
   "outputs": [],
   "source": [
    "def get_user_profile(username: str) -> dict:\n",
    "    url = f\"https://lichess.org/api/user/{username}\"\n",
    "    r = requests.get(url, headers=HEADERS, timeout=10)\n",
    "    r.raise_for_status()\n",
    "    return r.json()"
   ]
  },
  {
   "cell_type": "markdown",
   "id": "58e1f3aa",
   "metadata": {},
   "source": [
    "Example"
   ]
  },
  {
   "cell_type": "code",
   "execution_count": 21,
   "id": "396539d9",
   "metadata": {},
   "outputs": [],
   "source": [
    "import json"
   ]
  },
  {
   "cell_type": "code",
   "execution_count": 22,
   "id": "8749f527",
   "metadata": {},
   "outputs": [
    {
     "name": "stdout",
     "output_type": "stream",
     "text": [
      "Current ratings: {'ultraBullet': 1607, 'bullet': 2686, 'blitz': 2449, 'rapid': 2447, 'classical': 1500, 'correspondence': 1500, 'chess960': 2141, 'puzzle': 2519}\n",
      "Total games played: {'ultraBullet': 106, 'bullet': 291, 'blitz': 7446, 'rapid': 127, 'classical': 0, 'correspondence': 0, 'chess960': 406, 'puzzle': 522}\n"
     ]
    }
   ],
   "source": [
    "profile = get_user_profile(USERNAME)\n",
    "\n",
    "(profile_path := DATA_DIR / f\"{USERNAME}_profile.json\").write_text(\n",
    "    json.dumps(profile, indent=2), encoding=\"utf-8\"\n",
    ")\n",
    "\n",
    "ratings = { fmt: v[\"rating\"] \n",
    "            for fmt, v in profile[\"perfs\"].items() \n",
    "            if \"rating\" in v }\n",
    "print(\"Current ratings:\", ratings)\n",
    "\n",
    "play_counts = { fmt: v[\"games\"] \n",
    "                for fmt, v in profile[\"perfs\"].items() \n",
    "                if \"games\" in v }\n",
    "print(\"Total games played:\", play_counts)"
   ]
  }
 ],
 "metadata": {
  "kernelspec": {
   "display_name": "chess-opening-recommender-LtfoShBY-py3.11",
   "language": "python",
   "name": "python3"
  },
  "language_info": {
   "codemirror_mode": {
    "name": "ipython",
    "version": 3
   },
   "file_extension": ".py",
   "mimetype": "text/x-python",
   "name": "python",
   "nbconvert_exporter": "python",
   "pygments_lexer": "ipython3",
   "version": "3.11.12"
  }
 },
 "nbformat": 4,
 "nbformat_minor": 5
}
