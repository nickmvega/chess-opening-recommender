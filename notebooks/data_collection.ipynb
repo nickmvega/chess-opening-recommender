{
 "cells": [
  {
   "cell_type": "markdown",
   "id": "6ed900d4",
   "metadata": {},
   "source": [
    "# Chess Opening Recommender — Data Collection\n",
    "\n",
    "The main idea:\n",
    "\n",
    "- Fetch raw PGNs (the actual move-by-move game records) from Lichess for a specific user.\n",
    "- Load a sample of elite-level PGNs for comparison and reference.\n",
    "\n",
    " I’ll have two Pandas DataFrames:\n",
    "\n",
    "- user_games_df: all the games for the target user, ready for feature extraction.\n",
    "- elite_df: a sample of elite games, which I’ll use to build style vectors and do clustering.\n",
    "\n",
    "This notebook is meant to be run interactively as I iterate on the pipeline, but the functions here will also be used in the automated backend later."
   ]
  },
  {
   "cell_type": "code",
   "execution_count": 9,
   "id": "e1a12610",
   "metadata": {},
   "outputs": [],
   "source": [
    "import os\n",
    "import io\n",
    "import requests\n",
    "from pathlib import Path\n",
    "from typing import Optional\n",
    "import chess.pgn\n",
    "import pandas as pd\n",
    "from tqdm import tqdm"
   ]
  },
  {
   "cell_type": "code",
   "execution_count": null,
   "id": "cf4ebad5",
   "metadata": {},
   "outputs": [],
   "source": [
    "LICHESS_TOKEN = \"\"\n",
    "HEADERS = {\"Authorization\": f\"Bearer {LICHESS_TOKEN}\"}\n",
    "DATA_DIR = Path(\"/Users/nicholasvega/Downloads/chess-opening-recommender/data\")"
   ]
  },
  {
   "cell_type": "markdown",
   "id": "52e25bd8",
   "metadata": {},
   "source": [
    "## Fetch User Games from Lichess\n",
    "\n",
    "We will define `fetch_user_games(username, save_to)`:\n",
    "\n",
    "This function does the following: \n",
    "1. Builds the request to `https://lichess.org/api/games/user/{username}`, asking for complete move list, openings used, an\n",
    "2. Handles the HTTP response, raising an error if something goes wrong.\n",
    "3. Returns the raw PGN text and optionally saves it to disk for later reuse."
   ]
  },
  {
   "cell_type": "code",
   "execution_count": 16,
   "id": "1b61beff",
   "metadata": {},
   "outputs": [],
   "source": [
    "def fetch_user_games(username: str, save_to: Optional[Path] = None) -> str:\n",
    "    \"Fetch all games for a given Lichess user in PGN format.\"\n",
    "    url = f\"https://lichess.org/api/games/user/{username}\"\n",
    "    params = {\n",
    "        \"moves\": \"true\",\n",
    "        \"evals\": \"true\",\n",
    "        \"opening\": \"true\",\n",
    "        \"clocks\": \"false\",\n",
    "        \"format\": \"pgn\",\n",
    "    }\n",
    "    resp = requests.get(url, headers=HEADERS, params=params, timeout=60)\n",
    "    resp.raise_for_status()\n",
    "    text = resp.text\n",
    "    if save_to:\n",
    "        save_to.parent.mkdir(parents=True, exist_ok=True)\n",
    "        save_to.write_text(text, encoding=\"utf-8\")\n",
    "    return text"
   ]
  },
  {
   "cell_type": "markdown",
   "id": "9e869f04",
   "metadata": {},
   "source": [
    "### Example of use for fetch_user_games"
   ]
  },
  {
   "cell_type": "code",
   "execution_count": 17,
   "id": "5b9ac479",
   "metadata": {},
   "outputs": [
    {
     "name": "stdout",
     "output_type": "stream",
     "text": [
      "Fetched 10145.0 KB of PGN → /Users/nicholasvega/Downloads/chess-opening-recommender/data/Chessanonymous1_games.pgn\n"
     ]
    }
   ],
   "source": [
    "USERNAME  = \"Chessanonymous1\"\n",
    "SAVE_PATH = Path(\"/Users/nicholasvega/Downloads/chess-opening-recommender/data\") / f\"{USERNAME}_games.pgn\"\n",
    "\n",
    "pgn_text  = fetch_user_games(USERNAME, save_to=SAVE_PATH)\n",
    "print(f\"Fetched {len(pgn_text)//1024:.1f} KB of PGN → {SAVE_PATH}\")"
   ]
  },
  {
   "cell_type": "markdown",
   "id": "22bc524e",
   "metadata": {},
   "source": [
    "The users games has been succesfuly saved to the data folder in the root repositorty. "
   ]
  },
  {
   "cell_type": "markdown",
   "id": "379b4a7e",
   "metadata": {},
   "source": [
    "### Example of output from fetch_user_games"
   ]
  },
  {
   "cell_type": "markdown",
   "id": "b57d586a",
   "metadata": {},
   "source": [
    "[Event \"rated blitz game\"]\n",
    "\n",
    "[Site \"https://lichess.org/P6YKILRd\"]\n",
    "\n",
    "[Date \"2025.08.04\"]\n",
    "\n",
    "[White \"Chessanonymous1\"]\n",
    "\n",
    "[Black \"Miki000\"]\n",
    "\n",
    "[Result \"1-0\"]\n",
    "\n",
    "[GameId \"P6YKILRd\"]\n",
    "\n",
    "[UTCDate \"2025.08.04\"]\n",
    "\n",
    "[UTCTime \"12:49:00\"]\n",
    "\n",
    "[WhiteElo \"2419\"]\n",
    "\n",
    "[BlackElo \"2383\"]\n",
    "\n",
    "[WhiteRatingDiff \"+6\"]\n",
    "\n",
    "[BlackRatingDiff \"-5\"]\n",
    "\n",
    "[Variant \"Standard\"]\n",
    "\n",
    "[TimeControl \"180+0\"]\n",
    "\n",
    "[ECO \"A45\"]\n",
    "\n",
    "[Opening \"Trompowsky Attack: Classical Defense\"]\n",
    "\n",
    "[Termination \"Normal\"]\n",
    "\n",
    "1. d4 Nf6 2. Bg5 e6 3. e3 Be7 4. Bd3 O-O 5. Nd2 c5 6. c3 b6 7. Qf3 d5 8. Ne2 h6 9. h4 Bb7 10. Bxf6 Bxf6 11. g4 g6 12. g5 hxg5 13. hxg5 Bxg5 14. Qh3 Kg7 15. Qh7+ Kf6 16. f4 1-0"
   ]
  },
  {
   "cell_type": "markdown",
   "id": "16e1bdd2",
   "metadata": {},
   "source": [
    "## Fetch User Profile\n",
    "\n",
    "We will define a function that gets the metadata about a player from Lichess\n",
    "\n",
    "`get_user_profile(username)`:"
   ]
  },
  {
   "cell_type": "code",
   "execution_count": null,
   "id": "54bd856a",
   "metadata": {},
   "outputs": [],
   "source": [
    "def get_user_profile(username: str, save_to: Optional[Path] = None) -> dict:\n",
    "    url = f\"https://lichess.org/api/user/{username}\"\n",
    "    r = requests.get(url, headers=HEADERS, timeout=10)\n",
    "    r.raise_for_status()\n",
    "    if save_to:\n",
    "        save_to.parent.mkdir(parents=True, exist_ok=True)\n",
    "        save_to.write_text(r.text, encoding=\"utf-8\")\n",
    "    return r.json()"
   ]
  },
  {
   "cell_type": "markdown",
   "id": "63194308",
   "metadata": {},
   "source": [
    "### Example of use for get_user_profile"
   ]
  },
  {
   "cell_type": "code",
   "execution_count": 19,
   "id": "11569408",
   "metadata": {},
   "outputs": [
    {
     "name": "stdout",
     "output_type": "stream",
     "text": [
      "Fetched profile for Chessanonymous1 → /Users/nicholasvega/Downloads/chess-opening-recommender/data/Chessanonymous1_profile.json\n"
     ]
    }
   ],
   "source": [
    "USERNAME  = \"Chessanonymous1\"\n",
    "SAVE_PATH = Path(\"/Users/nicholasvega/Downloads/chess-opening-recommender/data\") / f\"{USERNAME}_profile.json\"\n",
    "\n",
    "profile = get_user_profile(USERNAME)\n",
    "print(f\"Fetched profile for {USERNAME} → {SAVE_PATH}\")"
   ]
  },
  {
   "cell_type": "markdown",
   "id": "7d09f940",
   "metadata": {},
   "source": [
    "## Parse PGN game to dataframe"
   ]
  },
  {
   "cell_type": "code",
   "execution_count": null,
   "id": "935acd29",
   "metadata": {},
   "outputs": [],
   "source": [
    "def pgn_to_games_df(pgn_text: str) -> pd.DataFrame:\n",
    "    records = []\n",
    "    stream = io.StringIO(pgn_text)\n",
    "    while True:\n",
    "        game = chess.pgn.read_game(stream)\n",
    "        if game is None:\n",
    "            break\n",
    "        hdr = game.headers\n",
    "        moves, evals = [], []\n",
    "        node = game\n",
    "        while node.variations:\n",
    "            nxt = node.variation(0)\n",
    "            moves.append(nxt.move.uci())\n",
    "            if getattr(nxt, \"eval\", None) is not None:\n",
    "                evals.append(nxt.eval)\n",
    "            node = nxt\n",
    "        records.append(\n",
    "            {\n",
    "                \"white\": hdr.get(\"White\"),\n",
    "                \"black\": hdr.get(\"Black\"),\n",
    "                \"result\": hdr.get(\"Result\"),\n",
    "                \"eco\": hdr.get(\"ECO\"),\n",
    "                \"opening\": hdr.get(\"Opening\", \"\"),\n",
    "                \"utc_date\": hdr.get(\"UTCDate\"),\n",
    "                \"utc_time\": hdr.get(\"UTCTime\"),\n",
    "                \"time_control\": hdr.get(\"TimeControl\"),\n",
    "                \"moves\": moves,\n",
    "                \"evals\": evals,\n",
    "            }\n",
    "        )\n",
    "    return pd.DataFrame(records)"
   ]
  },
  {
   "cell_type": "markdown",
   "id": "f5b3a396",
   "metadata": {},
   "source": [
    "## Parse user PGN games to dataframe"
   ]
  },
  {
   "cell_type": "code",
   "execution_count": 21,
   "id": "1a2e14e2",
   "metadata": {},
   "outputs": [],
   "source": [
    "def parse_user_pgn(pgn_text: str) -> pd.DataFrame:\n",
    "    df = pgn_to_games_df(pgn_text)\n",
    "    return df"
   ]
  },
  {
   "cell_type": "markdown",
   "id": "916aff32",
   "metadata": {},
   "source": [
    "Example usage"
   ]
  },
  {
   "cell_type": "code",
   "execution_count": 22,
   "id": "26c2f7a1",
   "metadata": {},
   "outputs": [
    {
     "name": "stdout",
     "output_type": "stream",
     "text": [
      "User games parsed: 8499\n"
     ]
    },
    {
     "data": {
      "text/html": [
       "<div>\n",
       "<style scoped>\n",
       "    .dataframe tbody tr th:only-of-type {\n",
       "        vertical-align: middle;\n",
       "    }\n",
       "\n",
       "    .dataframe tbody tr th {\n",
       "        vertical-align: top;\n",
       "    }\n",
       "\n",
       "    .dataframe thead th {\n",
       "        text-align: right;\n",
       "    }\n",
       "</style>\n",
       "<table border=\"1\" class=\"dataframe\">\n",
       "  <thead>\n",
       "    <tr style=\"text-align: right;\">\n",
       "      <th></th>\n",
       "      <th>white</th>\n",
       "      <th>black</th>\n",
       "      <th>result</th>\n",
       "      <th>eco</th>\n",
       "      <th>opening</th>\n",
       "      <th>utc_date</th>\n",
       "      <th>utc_time</th>\n",
       "      <th>time_control</th>\n",
       "      <th>moves</th>\n",
       "    </tr>\n",
       "  </thead>\n",
       "  <tbody>\n",
       "    <tr>\n",
       "      <th>0</th>\n",
       "      <td>Chessanonymous1</td>\n",
       "      <td>Miki000</td>\n",
       "      <td>1-0</td>\n",
       "      <td>A45</td>\n",
       "      <td>Trompowsky Attack: Classical Defense</td>\n",
       "      <td>2025.08.04</td>\n",
       "      <td>12:49:00</td>\n",
       "      <td>180+0</td>\n",
       "      <td>[d2d4, g8f6, c1g5, e7e6, e2e3, f8e7, f1d3, e8g...</td>\n",
       "    </tr>\n",
       "    <tr>\n",
       "      <th>1</th>\n",
       "      <td>Miki000</td>\n",
       "      <td>Chessanonymous1</td>\n",
       "      <td>1-0</td>\n",
       "      <td>D15</td>\n",
       "      <td>Slav Defense: Chebanenko Variation</td>\n",
       "      <td>2025.08.04</td>\n",
       "      <td>12:44:17</td>\n",
       "      <td>180+0</td>\n",
       "      <td>[d2d4, d7d5, c2c4, c7c6, b1c3, g8f6, g1f3, a7a...</td>\n",
       "    </tr>\n",
       "    <tr>\n",
       "      <th>2</th>\n",
       "      <td>Chessanonymous1</td>\n",
       "      <td>AnnePiecy</td>\n",
       "      <td>1-0</td>\n",
       "      <td>A80</td>\n",
       "      <td>Dutch Defense: Krejcik Gambit</td>\n",
       "      <td>2025.08.04</td>\n",
       "      <td>12:28:10</td>\n",
       "      <td>180+0</td>\n",
       "      <td>[d2d4, f7f5, g2g4, d7d5, g4g5, b8c6, c1f4, e7e...</td>\n",
       "    </tr>\n",
       "    <tr>\n",
       "      <th>3</th>\n",
       "      <td>Chessanonymous1</td>\n",
       "      <td>micfel</td>\n",
       "      <td>1-0</td>\n",
       "      <td>D00</td>\n",
       "      <td>Queen's Pawn Game: Levitsky Attack</td>\n",
       "      <td>2025.08.04</td>\n",
       "      <td>00:13:13</td>\n",
       "      <td>180+0</td>\n",
       "      <td>[d2d4, d7d5, c1g5, c7c5, c2c3, b8c6, e2e3, d8b...</td>\n",
       "    </tr>\n",
       "    <tr>\n",
       "      <th>4</th>\n",
       "      <td>micfel</td>\n",
       "      <td>Chessanonymous1</td>\n",
       "      <td>1-0</td>\n",
       "      <td>B12</td>\n",
       "      <td>Caro-Kann Defense: Modern Variation</td>\n",
       "      <td>2025.08.04</td>\n",
       "      <td>00:10:07</td>\n",
       "      <td>180+0</td>\n",
       "      <td>[e2e4, c7c6, d2d4, d7d5, b1d2, a7a6, c2c3, e7e...</td>\n",
       "    </tr>\n",
       "  </tbody>\n",
       "</table>\n",
       "</div>"
      ],
      "text/plain": [
       "             white            black result  eco  \\\n",
       "0  Chessanonymous1          Miki000    1-0  A45   \n",
       "1          Miki000  Chessanonymous1    1-0  D15   \n",
       "2  Chessanonymous1        AnnePiecy    1-0  A80   \n",
       "3  Chessanonymous1           micfel    1-0  D00   \n",
       "4           micfel  Chessanonymous1    1-0  B12   \n",
       "\n",
       "                                opening    utc_date  utc_time time_control  \\\n",
       "0  Trompowsky Attack: Classical Defense  2025.08.04  12:49:00        180+0   \n",
       "1    Slav Defense: Chebanenko Variation  2025.08.04  12:44:17        180+0   \n",
       "2         Dutch Defense: Krejcik Gambit  2025.08.04  12:28:10        180+0   \n",
       "3    Queen's Pawn Game: Levitsky Attack  2025.08.04  00:13:13        180+0   \n",
       "4   Caro-Kann Defense: Modern Variation  2025.08.04  00:10:07        180+0   \n",
       "\n",
       "                                               moves  \n",
       "0  [d2d4, g8f6, c1g5, e7e6, e2e3, f8e7, f1d3, e8g...  \n",
       "1  [d2d4, d7d5, c2c4, c7c6, b1c3, g8f6, g1f3, a7a...  \n",
       "2  [d2d4, f7f5, g2g4, d7d5, g4g5, b8c6, c1f4, e7e...  \n",
       "3  [d2d4, d7d5, c1g5, c7c5, c2c3, b8c6, e2e3, d8b...  \n",
       "4  [e2e4, c7c6, d2d4, d7d5, b1d2, a7a6, c2c3, e7e...  "
      ]
     },
     "metadata": {},
     "output_type": "display_data"
    }
   ],
   "source": [
    "user_games_df = parse_user_pgn(pgn_text)\n",
    "print(f\"User games parsed: {len(user_games_df)}\")\n",
    "display(user_games_df.head())\n",
    "\n",
    "#save df to parquet \n",
    "user_games_df.to_parquet(DATA_DIR / \"Chessanonymous1_games.parquet\")"
   ]
  },
  {
   "cell_type": "markdown",
   "id": "0e54e8ee",
   "metadata": {},
   "source": [
    "## Parse Elite PGN games to dataframe"
   ]
  },
  {
   "cell_type": "code",
   "execution_count": 27,
   "id": "29e7ed5c",
   "metadata": {},
   "outputs": [],
   "source": [
    "def parse_elite_pgn(pgn_path: Path) -> pd.DataFrame:\n",
    "    records = []\n",
    "    with pgn_path.open(encoding=\"utf-8\", errors=\"ignore\") as fh:\n",
    "        while True:\n",
    "            game = chess.pgn.read_game(fh)\n",
    "            if game is None:\n",
    "                break\n",
    "            hdr = game.headers\n",
    "            moves, evals = [], []\n",
    "            node = game\n",
    "            while node.variations:\n",
    "                nxt = node.variation(0)\n",
    "                moves.append(nxt.move.uci())\n",
    "                if getattr(nxt, \"eval\", None) is not None:\n",
    "                    evals.append(nxt.eval)\n",
    "                node = nxt\n",
    "            records.append({\n",
    "                \"white\": hdr.get(\"White\"),\n",
    "                \"black\": hdr.get(\"Black\"),\n",
    "                \"result\": hdr.get(\"Result\"),\n",
    "                \"eco\": hdr.get(\"ECO\"),\n",
    "                \"opening\": hdr.get(\"Opening\", \"\"),\n",
    "                \"utc_date\": hdr.get(\"UTCDate\"),\n",
    "                \"utc_time\": hdr.get(\"UTCTime\"),\n",
    "                \"time_control\": hdr.get(\"TimeControl\"),\n",
    "                \"moves\": moves\n",
    "            })\n",
    "    return pd.DataFrame(records)"
   ]
  },
  {
   "cell_type": "markdown",
   "id": "17731435",
   "metadata": {},
   "source": [
    "Example usage "
   ]
  },
  {
   "cell_type": "code",
   "execution_count": 28,
   "id": "02263bcc",
   "metadata": {},
   "outputs": [
    {
     "data": {
      "text/html": [
       "<div>\n",
       "<style scoped>\n",
       "    .dataframe tbody tr th:only-of-type {\n",
       "        vertical-align: middle;\n",
       "    }\n",
       "\n",
       "    .dataframe tbody tr th {\n",
       "        vertical-align: top;\n",
       "    }\n",
       "\n",
       "    .dataframe thead th {\n",
       "        text-align: right;\n",
       "    }\n",
       "</style>\n",
       "<table border=\"1\" class=\"dataframe\">\n",
       "  <thead>\n",
       "    <tr style=\"text-align: right;\">\n",
       "      <th></th>\n",
       "      <th>white</th>\n",
       "      <th>black</th>\n",
       "      <th>result</th>\n",
       "      <th>eco</th>\n",
       "      <th>opening</th>\n",
       "      <th>utc_date</th>\n",
       "      <th>utc_time</th>\n",
       "      <th>time_control</th>\n",
       "      <th>moves</th>\n",
       "    </tr>\n",
       "  </thead>\n",
       "  <tbody>\n",
       "    <tr>\n",
       "      <th>0</th>\n",
       "      <td>eNErGyOFbEiNGbOT</td>\n",
       "      <td>Nikitosik-ai</td>\n",
       "      <td>1/2-1/2</td>\n",
       "      <td>A00</td>\n",
       "      <td>Clemenz Opening</td>\n",
       "      <td>2025.05.01</td>\n",
       "      <td>00:00:15</td>\n",
       "      <td>180+0</td>\n",
       "      <td>[h2h3, e7e5, e2e4, g8f6, b1c3, f8b4, a2a3, b4a...</td>\n",
       "    </tr>\n",
       "    <tr>\n",
       "      <th>1</th>\n",
       "      <td>Chessanonymous1</td>\n",
       "      <td>Ariel_mlr</td>\n",
       "      <td>1-0</td>\n",
       "      <td>A45</td>\n",
       "      <td>Trompowsky Attack</td>\n",
       "      <td>2025.05.01</td>\n",
       "      <td>00:00:54</td>\n",
       "      <td>180+0</td>\n",
       "      <td>[d2d4, g8f6, c1g5, d7d5, g5f6, e7f6, e2e3, f8d...</td>\n",
       "    </tr>\n",
       "    <tr>\n",
       "      <th>2</th>\n",
       "      <td>Kyreds_pet</td>\n",
       "      <td>OlympusCz</td>\n",
       "      <td>1-0</td>\n",
       "      <td>B90</td>\n",
       "      <td>Sicilian Defense: Najdorf Variation, English A...</td>\n",
       "      <td>2025.05.01</td>\n",
       "      <td>00:00:45</td>\n",
       "      <td>180+0</td>\n",
       "      <td>[e2e4, c7c5, g1f3, d7d6, d2d4, c5d4, f3d4, g8f...</td>\n",
       "    </tr>\n",
       "    <tr>\n",
       "      <th>3</th>\n",
       "      <td>rtahmass</td>\n",
       "      <td>Mettigel</td>\n",
       "      <td>0-1</td>\n",
       "      <td>C72</td>\n",
       "      <td>Ruy Lopez: Morphy Defense, Modern Steinitz Def...</td>\n",
       "      <td>2025.05.01</td>\n",
       "      <td>00:01:09</td>\n",
       "      <td>180+0</td>\n",
       "      <td>[e2e4, e7e5, g1f3, b8c6, f1b5, a7a6, b5a4, d7d...</td>\n",
       "    </tr>\n",
       "    <tr>\n",
       "      <th>4</th>\n",
       "      <td>CruelKen</td>\n",
       "      <td>tomlesspit</td>\n",
       "      <td>1/2-1/2</td>\n",
       "      <td>D38</td>\n",
       "      <td>Queen's Gambit Declined: Ragozin Defense, Alek...</td>\n",
       "      <td>2025.05.01</td>\n",
       "      <td>00:01:12</td>\n",
       "      <td>180+2</td>\n",
       "      <td>[g1f3, d7d5, d2d4, g8f6, c2c4, e7e6, b1c3, f8b...</td>\n",
       "    </tr>\n",
       "  </tbody>\n",
       "</table>\n",
       "</div>"
      ],
      "text/plain": [
       "              white         black   result  eco  \\\n",
       "0  eNErGyOFbEiNGbOT  Nikitosik-ai  1/2-1/2  A00   \n",
       "1   Chessanonymous1     Ariel_mlr      1-0  A45   \n",
       "2        Kyreds_pet     OlympusCz      1-0  B90   \n",
       "3          rtahmass      Mettigel      0-1  C72   \n",
       "4          CruelKen    tomlesspit  1/2-1/2  D38   \n",
       "\n",
       "                                             opening    utc_date  utc_time  \\\n",
       "0                                    Clemenz Opening  2025.05.01  00:00:15   \n",
       "1                                  Trompowsky Attack  2025.05.01  00:00:54   \n",
       "2  Sicilian Defense: Najdorf Variation, English A...  2025.05.01  00:00:45   \n",
       "3  Ruy Lopez: Morphy Defense, Modern Steinitz Def...  2025.05.01  00:01:09   \n",
       "4  Queen's Gambit Declined: Ragozin Defense, Alek...  2025.05.01  00:01:12   \n",
       "\n",
       "  time_control                                              moves  \n",
       "0        180+0  [h2h3, e7e5, e2e4, g8f6, b1c3, f8b4, a2a3, b4a...  \n",
       "1        180+0  [d2d4, g8f6, c1g5, d7d5, g5f6, e7f6, e2e3, f8d...  \n",
       "2        180+0  [e2e4, c7c5, g1f3, d7d6, d2d4, c5d4, f3d4, g8f...  \n",
       "3        180+0  [e2e4, e7e5, g1f3, b8c6, f1b5, a7a6, b5a4, d7d...  \n",
       "4        180+2  [g1f3, d7d5, d2d4, g8f6, c2c4, e7e6, b1c3, f8b...  "
      ]
     },
     "metadata": {},
     "output_type": "display_data"
    }
   ],
   "source": [
    "ELITE_PGN = Path(\"/Users/nicholasvega/Downloads/chess-opening-recommender/data/lichess_elite_2025-05.pgn\")\n",
    "\n",
    "import time\n",
    "start = time.time()\n",
    "elite_df = parse_elite_pgn(ELITE_PGN)\n",
    "display(elite_df.head())\n",
    "\n",
    "# save elite games to parquet\n",
    "elite_df.to_parquet(DATA_DIR / \"lichess_elite_2025-05.parquet\")"
   ]
  }
 ],
 "metadata": {
  "kernelspec": {
   "display_name": "chess-opening-recommender-LtfoShBY-py3.11",
   "language": "python",
   "name": "python3"
  },
  "language_info": {
   "codemirror_mode": {
    "name": "ipython",
    "version": 3
   },
   "file_extension": ".py",
   "mimetype": "text/x-python",
   "name": "python",
   "nbconvert_exporter": "python",
   "pygments_lexer": "ipython3",
   "version": "3.11.12"
  }
 },
 "nbformat": 4,
 "nbformat_minor": 5
}
