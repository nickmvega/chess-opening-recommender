{
 "cells": [
  {
   "cell_type": "markdown",
   "id": "6ed900d4",
   "metadata": {},
   "source": [
    "# Chess Opening Recommender — Data Collection\n",
    "\n",
    "**Overview:**  \n",
    "We will fetch raw PGN from Lichess for one user and load a sample of the elite PGN file. \n",
    "\n",
    "**Goal:**  \n",
    "We will produce two Pandas DataFrames: `user_games_df` and `elite_df` that will be needed for later use.\n",
    "\n",
    "**Purpose:**  \n",
    "We will need to validate that PGN fetching & parsing works before we can proceed with building features. \n"
   ]
  },
  {
   "cell_type": "code",
   "execution_count": 1,
   "id": "e1a12610",
   "metadata": {},
   "outputs": [],
   "source": [
    "import os\n",
    "import io\n",
    "import requests\n",
    "from pathlib import Path\n",
    "from typing import Optional\n",
    "import chess.pgn\n",
    "import pandas as pd\n",
    "from tqdm import tqdm"
   ]
  },
  {
   "cell_type": "code",
   "execution_count": 2,
   "id": "cf4ebad5",
   "metadata": {},
   "outputs": [],
   "source": [
    "LICHESS_TOKEN = \"lip_876jLfUbVLzQQE4wOmPJ\"\n",
    "HEADERS = {\"Authorization\": f\"Bearer {LICHESS_TOKEN}\"}\n",
    "DATA_DIR = Path(\"/Users/nicholasvega/Downloads/chess-opening-recommender/src/data\")"
   ]
  },
  {
   "cell_type": "markdown",
   "id": "4bb87ec1",
   "metadata": {},
   "source": [
    "## Fetch a users games from Lichess"
   ]
  },
  {
   "cell_type": "markdown",
   "id": "52e25bd8",
   "metadata": {},
   "source": [
    "### 1.1 Fetch User Games from Lichess\n",
    "\n",
    "Define `fetch_user_games(username, max_games, save_to)`:\n",
    "\n",
    "1. Builds the request to `https://lichess.org/api/games/user/{username}`, asking for up to `max_games` games, full move lists, engine evaluations, and ECO tags in PGN format.\n",
    "2. Handles the HTTP response, raising an error if something goes wrong.\n",
    "3. Returns the raw PGN text and optionally saves it to disk for later reuse."
   ]
  },
  {
   "cell_type": "code",
   "execution_count": 3,
   "id": "1b61beff",
   "metadata": {},
   "outputs": [],
   "source": [
    "def fetch_user_games(username: str,\n",
    "                    max_games: int = 300,\n",
    "                    save_to: Path | None = None) -> str:\n",
    "    \"\"\"\n",
    "    Fetch up to `max_games` recent games for a Lichess user as PGN (with evals & ECO).\n",
    "    Optionally saves the PGN to disk if `save_to` is provided.\n",
    "    Returns the PGN text as a string.\n",
    "    \"\"\"\n",
    "    url = f\"https://lichess.org/api/games/user/{username}\"\n",
    "    params = {\n",
    "        \"max\": max_games,\n",
    "        \"moves\": \"true\",\n",
    "        \"evals\": \"true\",\n",
    "        \"opening\": \"true\",\n",
    "        \"clocks\": \"false\",\n",
    "        \"format\": \"pgn\",\n",
    "    }\n",
    "    try:\n",
    "        response = requests.get(url, headers=HEADERS, params=params, stream=True, timeout=30)\n",
    "        response.raise_for_status()\n",
    "        pgn_text = response.text\n",
    "        if save_to:\n",
    "            save_to.write_text(pgn_text, encoding=\"utf-8\")\n",
    "        return pgn_text\n",
    "    except requests.RequestException as e:\n",
    "        print(f\"Error fetching games for {username}: {e}\")\n",
    "        return \"\""
   ]
  },
  {
   "cell_type": "markdown",
   "id": "9e869f04",
   "metadata": {},
   "source": [
    "### 1.1a Useage example of fetch_user_games"
   ]
  },
  {
   "cell_type": "code",
   "execution_count": 4,
   "id": "5b9ac479",
   "metadata": {},
   "outputs": [
    {
     "name": "stdout",
     "output_type": "stream",
     "text": [
      "Error fetching games for Chessanonymous1: 401 Client Error: Unauthorized for url: https://lichess.org/api/games/user/Chessanonymous1?max=300&moves=true&evals=true&opening=true&clocks=false&format=pgn\n",
      "Fetched 0.0 KB of PGN → /Users/nicholasvega/Downloads/chess-opening-recommender/src/data/Chessanonymous1_games.pgn\n"
     ]
    }
   ],
   "source": [
    "USERNAME  = \"Chessanonymous1\"\n",
    "SAVE_PATH = Path(\"/Users/nicholasvega/Downloads/chess-opening-recommender/src/data\") / f\"{USERNAME}_games.pgn\"\n",
    "\n",
    "pgn_text  = fetch_user_games(USERNAME, max_games=300, save_to=SAVE_PATH)\n",
    "print(f\"Fetched {len(pgn_text)//1024:.1f} KB of PGN → {SAVE_PATH}\")"
   ]
  },
  {
   "cell_type": "markdown",
   "id": "379b4a7e",
   "metadata": {},
   "source": [
    "### 1.1b example output"
   ]
  },
  {
   "cell_type": "markdown",
   "id": "b57d586a",
   "metadata": {},
   "source": [
    "[Event \"rated blitz game\"]\n",
    "[Site \"https://lichess.org/TdpWM9JA\"]\n",
    "[Date \"2025.07.22\"]\n",
    "[White \"Chessanonymous1\"]\n",
    "[Black \"yasinka2016\"]\n",
    "[Result \"0-1\"]\n",
    "[GameId \"TdpWM9JA\"]\n",
    "[UTCDate \"2025.07.22\"]\n",
    "[UTCTime \"03:05:34\"]\n",
    "[WhiteElo \"2455\"]\n",
    "[BlackElo \"2423\"]\n",
    "[WhiteRatingDiff \"-6\"]\n",
    "[BlackRatingDiff \"+6\"]\n",
    "[BlackTitle \"FM\"]\n",
    "[Variant \"Standard\"]\n",
    "[TimeControl \"180+0\"]\n",
    "[ECO \"D00\"]\n",
    "[Opening \"Queen's Pawn Game: Levitsky Attack\"]\n",
    "[Termination \"Time forfeit\"]"
   ]
  },
  {
   "cell_type": "markdown",
   "id": "16e1bdd2",
   "metadata": {},
   "source": [
    "A quick profile snapshot (ratings per time‑control, total games, creation date) gives contextual metadata:\n",
    "\n",
    "* Confirms you fetched the correct account.  \n",
    "* Lets you log the user’s current strength, which can be handy when interpreting engine accuracy metrics later.  "
   ]
  },
  {
   "cell_type": "code",
   "execution_count": 5,
   "id": "54bd856a",
   "metadata": {},
   "outputs": [],
   "source": [
    "def get_user_profile(username: str) -> dict:\n",
    "    url = f\"https://lichess.org/api/user/{username}\"\n",
    "    r = requests.get(url, headers=HEADERS, timeout=10)\n",
    "    r.raise_for_status()\n",
    "    return r.json()\n"
   ]
  },
  {
   "cell_type": "markdown",
   "id": "7d09f940",
   "metadata": {},
   "source": [
    "## 1.2 PGN game to dataframe"
   ]
  },
  {
   "cell_type": "code",
   "execution_count": 6,
   "id": "935acd29",
   "metadata": {},
   "outputs": [],
   "source": [
    "def pgn_to_games_df(pgn_text: str) -> pd.DataFrame:\n",
    "    records = []\n",
    "    stream = io.StringIO(pgn_text)\n",
    "    while True:\n",
    "        game = chess.pgn.read_game(stream)\n",
    "        if game is None:\n",
    "            break\n",
    "        hdr = game.headers\n",
    "        moves, evals = [], []\n",
    "        node = game\n",
    "        while node.variations:\n",
    "            nxt = node.variation(0)\n",
    "            moves.append(nxt.move.uci())\n",
    "            if hasattr(nxt, \"eval\") and nxt.eval is not None:\n",
    "                evals.append(nxt.eval)\n",
    "            node = nxt\n",
    "        records.append({\n",
    "            \"white\":        hdr.get(\"White\"),\n",
    "            \"black\":        hdr.get(\"Black\"),\n",
    "            \"result\":       hdr.get(\"Result\"),\n",
    "            \"eco\":          hdr.get(\"ECO\"),\n",
    "            \"opening\":      hdr.get(\"Opening\"),\n",
    "            \"utc_date\":     hdr.get(\"UTCDate\"),\n",
    "            \"utc_time\":     hdr.get(\"UTCTime\"),\n",
    "            \"time_control\": hdr.get(\"TimeControl\"),\n",
    "            \"moves\":        moves\n",
    "        })\n",
    "    return pd.DataFrame(records)\n"
   ]
  },
  {
   "cell_type": "markdown",
   "id": "f5b3a396",
   "metadata": {},
   "source": [
    "### 1.2a User PGN game to dataframe"
   ]
  },
  {
   "cell_type": "code",
   "execution_count": 7,
   "id": "1a2e14e2",
   "metadata": {},
   "outputs": [],
   "source": [
    "def parse_user_pgn(pgn_text: str) -> pd.DataFrame:\n",
    "    df = pgn_to_games_df(pgn_text)\n",
    "    return df"
   ]
  },
  {
   "cell_type": "markdown",
   "id": "916aff32",
   "metadata": {},
   "source": [
    "Example usage"
   ]
  },
  {
   "cell_type": "code",
   "execution_count": 8,
   "id": "26c2f7a1",
   "metadata": {},
   "outputs": [
    {
     "name": "stdout",
     "output_type": "stream",
     "text": [
      "User games parsed: 0\n"
     ]
    },
    {
     "data": {
      "text/html": [
       "<div>\n",
       "<style scoped>\n",
       "    .dataframe tbody tr th:only-of-type {\n",
       "        vertical-align: middle;\n",
       "    }\n",
       "\n",
       "    .dataframe tbody tr th {\n",
       "        vertical-align: top;\n",
       "    }\n",
       "\n",
       "    .dataframe thead th {\n",
       "        text-align: right;\n",
       "    }\n",
       "</style>\n",
       "<table border=\"1\" class=\"dataframe\">\n",
       "  <thead>\n",
       "    <tr style=\"text-align: right;\">\n",
       "      <th></th>\n",
       "    </tr>\n",
       "  </thead>\n",
       "  <tbody>\n",
       "  </tbody>\n",
       "</table>\n",
       "</div>"
      ],
      "text/plain": [
       "Empty DataFrame\n",
       "Columns: []\n",
       "Index: []"
      ]
     },
     "metadata": {},
     "output_type": "display_data"
    },
    {
     "ename": "OSError",
     "evalue": "Cannot save file into a non-existent directory: '/Users/nicholasvega/Downloads/chess-opening-recommender/src/data'",
     "output_type": "error",
     "traceback": [
      "\u001b[31m---------------------------------------------------------------------------\u001b[39m",
      "\u001b[31mOSError\u001b[39m                                   Traceback (most recent call last)",
      "\u001b[36mCell\u001b[39m\u001b[36m \u001b[39m\u001b[32mIn[8]\u001b[39m\u001b[32m, line 6\u001b[39m\n\u001b[32m      3\u001b[39m display(user_games_df.head())\n\u001b[32m      5\u001b[39m \u001b[38;5;66;03m#save df to parquet \u001b[39;00m\n\u001b[32m----> \u001b[39m\u001b[32m6\u001b[39m \u001b[43muser_games_df\u001b[49m\u001b[43m.\u001b[49m\u001b[43mto_parquet\u001b[49m\u001b[43m(\u001b[49m\u001b[43mDATA_DIR\u001b[49m\u001b[43m \u001b[49m\u001b[43m/\u001b[49m\u001b[43m \u001b[49m\u001b[33;43m\"\u001b[39;49m\u001b[33;43mChessanonymous1_games.parquet\u001b[39;49m\u001b[33;43m\"\u001b[39;49m\u001b[43m)\u001b[49m\n",
      "\u001b[36mFile \u001b[39m\u001b[32m~/Library/Caches/pypoetry/virtualenvs/chess-opening-recommender-LtfoShBY-py3.11/lib/python3.11/site-packages/pandas/util/_decorators.py:333\u001b[39m, in \u001b[36mdeprecate_nonkeyword_arguments.<locals>.decorate.<locals>.wrapper\u001b[39m\u001b[34m(*args, **kwargs)\u001b[39m\n\u001b[32m    327\u001b[39m \u001b[38;5;28;01mif\u001b[39;00m \u001b[38;5;28mlen\u001b[39m(args) > num_allow_args:\n\u001b[32m    328\u001b[39m     warnings.warn(\n\u001b[32m    329\u001b[39m         msg.format(arguments=_format_argument_list(allow_args)),\n\u001b[32m    330\u001b[39m         \u001b[38;5;167;01mFutureWarning\u001b[39;00m,\n\u001b[32m    331\u001b[39m         stacklevel=find_stack_level(),\n\u001b[32m    332\u001b[39m     )\n\u001b[32m--> \u001b[39m\u001b[32m333\u001b[39m \u001b[38;5;28;01mreturn\u001b[39;00m \u001b[43mfunc\u001b[49m\u001b[43m(\u001b[49m\u001b[43m*\u001b[49m\u001b[43margs\u001b[49m\u001b[43m,\u001b[49m\u001b[43m \u001b[49m\u001b[43m*\u001b[49m\u001b[43m*\u001b[49m\u001b[43mkwargs\u001b[49m\u001b[43m)\u001b[49m\n",
      "\u001b[36mFile \u001b[39m\u001b[32m~/Library/Caches/pypoetry/virtualenvs/chess-opening-recommender-LtfoShBY-py3.11/lib/python3.11/site-packages/pandas/core/frame.py:3118\u001b[39m, in \u001b[36mDataFrame.to_parquet\u001b[39m\u001b[34m(self, path, engine, compression, index, partition_cols, storage_options, **kwargs)\u001b[39m\n\u001b[32m   3037\u001b[39m \u001b[38;5;250m\u001b[39m\u001b[33;03m\"\"\"\u001b[39;00m\n\u001b[32m   3038\u001b[39m \u001b[33;03mWrite a DataFrame to the binary parquet format.\u001b[39;00m\n\u001b[32m   3039\u001b[39m \n\u001b[32m   (...)\u001b[39m\u001b[32m   3114\u001b[39m \u001b[33;03m>>> content = f.read()\u001b[39;00m\n\u001b[32m   3115\u001b[39m \u001b[33;03m\"\"\"\u001b[39;00m\n\u001b[32m   3116\u001b[39m \u001b[38;5;28;01mfrom\u001b[39;00m\u001b[38;5;250m \u001b[39m\u001b[34;01mpandas\u001b[39;00m\u001b[34;01m.\u001b[39;00m\u001b[34;01mio\u001b[39;00m\u001b[34;01m.\u001b[39;00m\u001b[34;01mparquet\u001b[39;00m\u001b[38;5;250m \u001b[39m\u001b[38;5;28;01mimport\u001b[39;00m to_parquet\n\u001b[32m-> \u001b[39m\u001b[32m3118\u001b[39m \u001b[38;5;28;01mreturn\u001b[39;00m \u001b[43mto_parquet\u001b[49m\u001b[43m(\u001b[49m\n\u001b[32m   3119\u001b[39m \u001b[43m    \u001b[49m\u001b[38;5;28;43mself\u001b[39;49m\u001b[43m,\u001b[49m\n\u001b[32m   3120\u001b[39m \u001b[43m    \u001b[49m\u001b[43mpath\u001b[49m\u001b[43m,\u001b[49m\n\u001b[32m   3121\u001b[39m \u001b[43m    \u001b[49m\u001b[43mengine\u001b[49m\u001b[43m,\u001b[49m\n\u001b[32m   3122\u001b[39m \u001b[43m    \u001b[49m\u001b[43mcompression\u001b[49m\u001b[43m=\u001b[49m\u001b[43mcompression\u001b[49m\u001b[43m,\u001b[49m\n\u001b[32m   3123\u001b[39m \u001b[43m    \u001b[49m\u001b[43mindex\u001b[49m\u001b[43m=\u001b[49m\u001b[43mindex\u001b[49m\u001b[43m,\u001b[49m\n\u001b[32m   3124\u001b[39m \u001b[43m    \u001b[49m\u001b[43mpartition_cols\u001b[49m\u001b[43m=\u001b[49m\u001b[43mpartition_cols\u001b[49m\u001b[43m,\u001b[49m\n\u001b[32m   3125\u001b[39m \u001b[43m    \u001b[49m\u001b[43mstorage_options\u001b[49m\u001b[43m=\u001b[49m\u001b[43mstorage_options\u001b[49m\u001b[43m,\u001b[49m\n\u001b[32m   3126\u001b[39m \u001b[43m    \u001b[49m\u001b[43m*\u001b[49m\u001b[43m*\u001b[49m\u001b[43mkwargs\u001b[49m\u001b[43m,\u001b[49m\n\u001b[32m   3127\u001b[39m \u001b[43m\u001b[49m\u001b[43m)\u001b[49m\n",
      "\u001b[36mFile \u001b[39m\u001b[32m~/Library/Caches/pypoetry/virtualenvs/chess-opening-recommender-LtfoShBY-py3.11/lib/python3.11/site-packages/pandas/io/parquet.py:482\u001b[39m, in \u001b[36mto_parquet\u001b[39m\u001b[34m(df, path, engine, compression, index, storage_options, partition_cols, filesystem, **kwargs)\u001b[39m\n\u001b[32m    478\u001b[39m impl = get_engine(engine)\n\u001b[32m    480\u001b[39m path_or_buf: FilePath | WriteBuffer[\u001b[38;5;28mbytes\u001b[39m] = io.BytesIO() \u001b[38;5;28;01mif\u001b[39;00m path \u001b[38;5;129;01mis\u001b[39;00m \u001b[38;5;28;01mNone\u001b[39;00m \u001b[38;5;28;01melse\u001b[39;00m path\n\u001b[32m--> \u001b[39m\u001b[32m482\u001b[39m \u001b[43mimpl\u001b[49m\u001b[43m.\u001b[49m\u001b[43mwrite\u001b[49m\u001b[43m(\u001b[49m\n\u001b[32m    483\u001b[39m \u001b[43m    \u001b[49m\u001b[43mdf\u001b[49m\u001b[43m,\u001b[49m\n\u001b[32m    484\u001b[39m \u001b[43m    \u001b[49m\u001b[43mpath_or_buf\u001b[49m\u001b[43m,\u001b[49m\n\u001b[32m    485\u001b[39m \u001b[43m    \u001b[49m\u001b[43mcompression\u001b[49m\u001b[43m=\u001b[49m\u001b[43mcompression\u001b[49m\u001b[43m,\u001b[49m\n\u001b[32m    486\u001b[39m \u001b[43m    \u001b[49m\u001b[43mindex\u001b[49m\u001b[43m=\u001b[49m\u001b[43mindex\u001b[49m\u001b[43m,\u001b[49m\n\u001b[32m    487\u001b[39m \u001b[43m    \u001b[49m\u001b[43mpartition_cols\u001b[49m\u001b[43m=\u001b[49m\u001b[43mpartition_cols\u001b[49m\u001b[43m,\u001b[49m\n\u001b[32m    488\u001b[39m \u001b[43m    \u001b[49m\u001b[43mstorage_options\u001b[49m\u001b[43m=\u001b[49m\u001b[43mstorage_options\u001b[49m\u001b[43m,\u001b[49m\n\u001b[32m    489\u001b[39m \u001b[43m    \u001b[49m\u001b[43mfilesystem\u001b[49m\u001b[43m=\u001b[49m\u001b[43mfilesystem\u001b[49m\u001b[43m,\u001b[49m\n\u001b[32m    490\u001b[39m \u001b[43m    \u001b[49m\u001b[43m*\u001b[49m\u001b[43m*\u001b[49m\u001b[43mkwargs\u001b[49m\u001b[43m,\u001b[49m\n\u001b[32m    491\u001b[39m \u001b[43m\u001b[49m\u001b[43m)\u001b[49m\n\u001b[32m    493\u001b[39m \u001b[38;5;28;01mif\u001b[39;00m path \u001b[38;5;129;01mis\u001b[39;00m \u001b[38;5;28;01mNone\u001b[39;00m:\n\u001b[32m    494\u001b[39m     \u001b[38;5;28;01massert\u001b[39;00m \u001b[38;5;28misinstance\u001b[39m(path_or_buf, io.BytesIO)\n",
      "\u001b[36mFile \u001b[39m\u001b[32m~/Library/Caches/pypoetry/virtualenvs/chess-opening-recommender-LtfoShBY-py3.11/lib/python3.11/site-packages/pandas/io/parquet.py:199\u001b[39m, in \u001b[36mPyArrowImpl.write\u001b[39m\u001b[34m(self, df, path, compression, index, storage_options, partition_cols, filesystem, **kwargs)\u001b[39m\n\u001b[32m    196\u001b[39m     merged_metadata = {**existing_metadata, **df_metadata}\n\u001b[32m    197\u001b[39m     table = table.replace_schema_metadata(merged_metadata)\n\u001b[32m--> \u001b[39m\u001b[32m199\u001b[39m path_or_handle, handles, filesystem = \u001b[43m_get_path_or_handle\u001b[49m\u001b[43m(\u001b[49m\n\u001b[32m    200\u001b[39m \u001b[43m    \u001b[49m\u001b[43mpath\u001b[49m\u001b[43m,\u001b[49m\n\u001b[32m    201\u001b[39m \u001b[43m    \u001b[49m\u001b[43mfilesystem\u001b[49m\u001b[43m,\u001b[49m\n\u001b[32m    202\u001b[39m \u001b[43m    \u001b[49m\u001b[43mstorage_options\u001b[49m\u001b[43m=\u001b[49m\u001b[43mstorage_options\u001b[49m\u001b[43m,\u001b[49m\n\u001b[32m    203\u001b[39m \u001b[43m    \u001b[49m\u001b[43mmode\u001b[49m\u001b[43m=\u001b[49m\u001b[33;43m\"\u001b[39;49m\u001b[33;43mwb\u001b[39;49m\u001b[33;43m\"\u001b[39;49m\u001b[43m,\u001b[49m\n\u001b[32m    204\u001b[39m \u001b[43m    \u001b[49m\u001b[43mis_dir\u001b[49m\u001b[43m=\u001b[49m\u001b[43mpartition_cols\u001b[49m\u001b[43m \u001b[49m\u001b[38;5;129;43;01mis\u001b[39;49;00m\u001b[43m \u001b[49m\u001b[38;5;129;43;01mnot\u001b[39;49;00m\u001b[43m \u001b[49m\u001b[38;5;28;43;01mNone\u001b[39;49;00m\u001b[43m,\u001b[49m\n\u001b[32m    205\u001b[39m \u001b[43m\u001b[49m\u001b[43m)\u001b[49m\n\u001b[32m    206\u001b[39m \u001b[38;5;28;01mif\u001b[39;00m (\n\u001b[32m    207\u001b[39m     \u001b[38;5;28misinstance\u001b[39m(path_or_handle, io.BufferedWriter)\n\u001b[32m    208\u001b[39m     \u001b[38;5;129;01mand\u001b[39;00m \u001b[38;5;28mhasattr\u001b[39m(path_or_handle, \u001b[33m\"\u001b[39m\u001b[33mname\u001b[39m\u001b[33m\"\u001b[39m)\n\u001b[32m    209\u001b[39m     \u001b[38;5;129;01mand\u001b[39;00m \u001b[38;5;28misinstance\u001b[39m(path_or_handle.name, (\u001b[38;5;28mstr\u001b[39m, \u001b[38;5;28mbytes\u001b[39m))\n\u001b[32m    210\u001b[39m ):\n\u001b[32m    211\u001b[39m     \u001b[38;5;28;01mif\u001b[39;00m \u001b[38;5;28misinstance\u001b[39m(path_or_handle.name, \u001b[38;5;28mbytes\u001b[39m):\n",
      "\u001b[36mFile \u001b[39m\u001b[32m~/Library/Caches/pypoetry/virtualenvs/chess-opening-recommender-LtfoShBY-py3.11/lib/python3.11/site-packages/pandas/io/parquet.py:141\u001b[39m, in \u001b[36m_get_path_or_handle\u001b[39m\u001b[34m(path, fs, storage_options, mode, is_dir)\u001b[39m\n\u001b[32m    131\u001b[39m handles = \u001b[38;5;28;01mNone\u001b[39;00m\n\u001b[32m    132\u001b[39m \u001b[38;5;28;01mif\u001b[39;00m (\n\u001b[32m    133\u001b[39m     \u001b[38;5;129;01mnot\u001b[39;00m fs\n\u001b[32m    134\u001b[39m     \u001b[38;5;129;01mand\u001b[39;00m \u001b[38;5;129;01mnot\u001b[39;00m is_dir\n\u001b[32m   (...)\u001b[39m\u001b[32m    139\u001b[39m     \u001b[38;5;66;03m# fsspec resources can also point to directories\u001b[39;00m\n\u001b[32m    140\u001b[39m     \u001b[38;5;66;03m# this branch is used for example when reading from non-fsspec URLs\u001b[39;00m\n\u001b[32m--> \u001b[39m\u001b[32m141\u001b[39m     handles = \u001b[43mget_handle\u001b[49m\u001b[43m(\u001b[49m\n\u001b[32m    142\u001b[39m \u001b[43m        \u001b[49m\u001b[43mpath_or_handle\u001b[49m\u001b[43m,\u001b[49m\u001b[43m \u001b[49m\u001b[43mmode\u001b[49m\u001b[43m,\u001b[49m\u001b[43m \u001b[49m\u001b[43mis_text\u001b[49m\u001b[43m=\u001b[49m\u001b[38;5;28;43;01mFalse\u001b[39;49;00m\u001b[43m,\u001b[49m\u001b[43m \u001b[49m\u001b[43mstorage_options\u001b[49m\u001b[43m=\u001b[49m\u001b[43mstorage_options\u001b[49m\n\u001b[32m    143\u001b[39m \u001b[43m    \u001b[49m\u001b[43m)\u001b[49m\n\u001b[32m    144\u001b[39m     fs = \u001b[38;5;28;01mNone\u001b[39;00m\n\u001b[32m    145\u001b[39m     path_or_handle = handles.handle\n",
      "\u001b[36mFile \u001b[39m\u001b[32m~/Library/Caches/pypoetry/virtualenvs/chess-opening-recommender-LtfoShBY-py3.11/lib/python3.11/site-packages/pandas/io/common.py:749\u001b[39m, in \u001b[36mget_handle\u001b[39m\u001b[34m(path_or_buf, mode, encoding, compression, memory_map, is_text, errors, storage_options)\u001b[39m\n\u001b[32m    747\u001b[39m \u001b[38;5;66;03m# Only for write methods\u001b[39;00m\n\u001b[32m    748\u001b[39m \u001b[38;5;28;01mif\u001b[39;00m \u001b[33m\"\u001b[39m\u001b[33mr\u001b[39m\u001b[33m\"\u001b[39m \u001b[38;5;129;01mnot\u001b[39;00m \u001b[38;5;129;01min\u001b[39;00m mode \u001b[38;5;129;01mand\u001b[39;00m is_path:\n\u001b[32m--> \u001b[39m\u001b[32m749\u001b[39m     \u001b[43mcheck_parent_directory\u001b[49m\u001b[43m(\u001b[49m\u001b[38;5;28;43mstr\u001b[39;49m\u001b[43m(\u001b[49m\u001b[43mhandle\u001b[49m\u001b[43m)\u001b[49m\u001b[43m)\u001b[49m\n\u001b[32m    751\u001b[39m \u001b[38;5;28;01mif\u001b[39;00m compression:\n\u001b[32m    752\u001b[39m     \u001b[38;5;28;01mif\u001b[39;00m compression != \u001b[33m\"\u001b[39m\u001b[33mzstd\u001b[39m\u001b[33m\"\u001b[39m:\n\u001b[32m    753\u001b[39m         \u001b[38;5;66;03m# compression libraries do not like an explicit text-mode\u001b[39;00m\n",
      "\u001b[36mFile \u001b[39m\u001b[32m~/Library/Caches/pypoetry/virtualenvs/chess-opening-recommender-LtfoShBY-py3.11/lib/python3.11/site-packages/pandas/io/common.py:616\u001b[39m, in \u001b[36mcheck_parent_directory\u001b[39m\u001b[34m(path)\u001b[39m\n\u001b[32m    614\u001b[39m parent = Path(path).parent\n\u001b[32m    615\u001b[39m \u001b[38;5;28;01mif\u001b[39;00m \u001b[38;5;129;01mnot\u001b[39;00m parent.is_dir():\n\u001b[32m--> \u001b[39m\u001b[32m616\u001b[39m     \u001b[38;5;28;01mraise\u001b[39;00m \u001b[38;5;167;01mOSError\u001b[39;00m(\u001b[33mrf\u001b[39m\u001b[33m\"\u001b[39m\u001b[33mCannot save file into a non-existent directory: \u001b[39m\u001b[33m'\u001b[39m\u001b[38;5;132;01m{\u001b[39;00mparent\u001b[38;5;132;01m}\u001b[39;00m\u001b[33m'\u001b[39m\u001b[33m\"\u001b[39m)\n",
      "\u001b[31mOSError\u001b[39m: Cannot save file into a non-existent directory: '/Users/nicholasvega/Downloads/chess-opening-recommender/src/data'"
     ]
    }
   ],
   "source": [
    "user_games_df = parse_user_pgn(pgn_text)\n",
    "print(f\"User games parsed: {len(user_games_df)}\")\n",
    "display(user_games_df.head())\n",
    "\n",
    "#save df to parquet \n",
    "user_games_df.to_parquet(DATA_DIR / \"Chessanonymous1_games.parquet\")"
   ]
  },
  {
   "cell_type": "markdown",
   "id": "7898d072",
   "metadata": {},
   "source": [
    "### 1.2b Parse elite pgn games to dataframe"
   ]
  },
  {
   "cell_type": "code",
   "execution_count": null,
   "id": "29e7ed5c",
   "metadata": {},
   "outputs": [],
   "source": [
    "def parse_elite_pgn_fast(pgn_path: Path, n_games: int = 500) -> pd.DataFrame:\n",
    "    records = []\n",
    "    with pgn_path.open(encoding=\"utf-8\", errors=\"ignore\") as fh:\n",
    "        for _ in tqdm(range(n_games), desc=\"Parsing elite PGN\"):\n",
    "            game = chess.pgn.read_game(fh)\n",
    "            if game is None:\n",
    "                break\n",
    "\n",
    "            hdr = game.headers\n",
    "            moves, evals = [], []\n",
    "            node = game\n",
    "            while node.variations:\n",
    "                nxt = node.variation(0)\n",
    "                moves.append(nxt.move.uci())\n",
    "                if hasattr(nxt, \"eval\") and nxt.eval is not None:\n",
    "                    evals.append(nxt.eval)\n",
    "                node = nxt\n",
    "\n",
    "            records.append({\n",
    "                \"white\":        hdr.get(\"White\"),\n",
    "                \"black\":        hdr.get(\"Black\"),\n",
    "                \"result\":       hdr.get(\"Result\"),\n",
    "                \"eco\":          hdr.get(\"ECO\"),\n",
    "                \"opening\":      hdr.get(\"Opening\", \"\"),\n",
    "                \"utc_date\":     hdr.get(\"UTCDate\"),\n",
    "                \"utc_time\":     hdr.get(\"UTCTime\"),\n",
    "                \"time_control\": hdr.get(\"TimeControl\"),\n",
    "                \"moves\":        moves\n",
    "            })\n",
    "\n",
    "    return pd.DataFrame(records)"
   ]
  },
  {
   "cell_type": "markdown",
   "id": "17731435",
   "metadata": {},
   "source": [
    "Example usage "
   ]
  },
  {
   "cell_type": "code",
   "execution_count": null,
   "id": "02263bcc",
   "metadata": {},
   "outputs": [
    {
     "name": "stderr",
     "output_type": "stream",
     "text": [
      "Parsing elite PGN: 100%|██████████| 500/500 [00:00<00:00, 1118.13it/s]"
     ]
    },
    {
     "name": "stdout",
     "output_type": "stream",
     "text": [
      "Fast parse took 0.5s — parsed 500 games\n"
     ]
    },
    {
     "name": "stderr",
     "output_type": "stream",
     "text": [
      "\n"
     ]
    },
    {
     "data": {
      "text/html": [
       "<div>\n",
       "<style scoped>\n",
       "    .dataframe tbody tr th:only-of-type {\n",
       "        vertical-align: middle;\n",
       "    }\n",
       "\n",
       "    .dataframe tbody tr th {\n",
       "        vertical-align: top;\n",
       "    }\n",
       "\n",
       "    .dataframe thead th {\n",
       "        text-align: right;\n",
       "    }\n",
       "</style>\n",
       "<table border=\"1\" class=\"dataframe\">\n",
       "  <thead>\n",
       "    <tr style=\"text-align: right;\">\n",
       "      <th></th>\n",
       "      <th>white</th>\n",
       "      <th>black</th>\n",
       "      <th>result</th>\n",
       "      <th>eco</th>\n",
       "      <th>opening</th>\n",
       "      <th>utc_date</th>\n",
       "      <th>utc_time</th>\n",
       "      <th>time_control</th>\n",
       "      <th>moves</th>\n",
       "    </tr>\n",
       "  </thead>\n",
       "  <tbody>\n",
       "    <tr>\n",
       "      <th>0</th>\n",
       "      <td>eNErGyOFbEiNGbOT</td>\n",
       "      <td>Nikitosik-ai</td>\n",
       "      <td>1/2-1/2</td>\n",
       "      <td>A00</td>\n",
       "      <td>Clemenz Opening</td>\n",
       "      <td>2025.05.01</td>\n",
       "      <td>00:00:15</td>\n",
       "      <td>180+0</td>\n",
       "      <td>[h2h3, e7e5, e2e4, g8f6, b1c3, f8b4, a2a3, b4a...</td>\n",
       "    </tr>\n",
       "    <tr>\n",
       "      <th>1</th>\n",
       "      <td>Chessanonymous1</td>\n",
       "      <td>Ariel_mlr</td>\n",
       "      <td>1-0</td>\n",
       "      <td>A45</td>\n",
       "      <td>Trompowsky Attack</td>\n",
       "      <td>2025.05.01</td>\n",
       "      <td>00:00:54</td>\n",
       "      <td>180+0</td>\n",
       "      <td>[d2d4, g8f6, c1g5, d7d5, g5f6, e7f6, e2e3, f8d...</td>\n",
       "    </tr>\n",
       "    <tr>\n",
       "      <th>2</th>\n",
       "      <td>Kyreds_pet</td>\n",
       "      <td>OlympusCz</td>\n",
       "      <td>1-0</td>\n",
       "      <td>B90</td>\n",
       "      <td>Sicilian Defense: Najdorf Variation, English A...</td>\n",
       "      <td>2025.05.01</td>\n",
       "      <td>00:00:45</td>\n",
       "      <td>180+0</td>\n",
       "      <td>[e2e4, c7c5, g1f3, d7d6, d2d4, c5d4, f3d4, g8f...</td>\n",
       "    </tr>\n",
       "    <tr>\n",
       "      <th>3</th>\n",
       "      <td>rtahmass</td>\n",
       "      <td>Mettigel</td>\n",
       "      <td>0-1</td>\n",
       "      <td>C72</td>\n",
       "      <td>Ruy Lopez: Morphy Defense, Modern Steinitz Def...</td>\n",
       "      <td>2025.05.01</td>\n",
       "      <td>00:01:09</td>\n",
       "      <td>180+0</td>\n",
       "      <td>[e2e4, e7e5, g1f3, b8c6, f1b5, a7a6, b5a4, d7d...</td>\n",
       "    </tr>\n",
       "    <tr>\n",
       "      <th>4</th>\n",
       "      <td>CruelKen</td>\n",
       "      <td>tomlesspit</td>\n",
       "      <td>1/2-1/2</td>\n",
       "      <td>D38</td>\n",
       "      <td>Queen's Gambit Declined: Ragozin Defense, Alek...</td>\n",
       "      <td>2025.05.01</td>\n",
       "      <td>00:01:12</td>\n",
       "      <td>180+2</td>\n",
       "      <td>[g1f3, d7d5, d2d4, g8f6, c2c4, e7e6, b1c3, f8b...</td>\n",
       "    </tr>\n",
       "  </tbody>\n",
       "</table>\n",
       "</div>"
      ],
      "text/plain": [
       "              white         black   result  eco  \\\n",
       "0  eNErGyOFbEiNGbOT  Nikitosik-ai  1/2-1/2  A00   \n",
       "1   Chessanonymous1     Ariel_mlr      1-0  A45   \n",
       "2        Kyreds_pet     OlympusCz      1-0  B90   \n",
       "3          rtahmass      Mettigel      0-1  C72   \n",
       "4          CruelKen    tomlesspit  1/2-1/2  D38   \n",
       "\n",
       "                                             opening    utc_date  utc_time  \\\n",
       "0                                    Clemenz Opening  2025.05.01  00:00:15   \n",
       "1                                  Trompowsky Attack  2025.05.01  00:00:54   \n",
       "2  Sicilian Defense: Najdorf Variation, English A...  2025.05.01  00:00:45   \n",
       "3  Ruy Lopez: Morphy Defense, Modern Steinitz Def...  2025.05.01  00:01:09   \n",
       "4  Queen's Gambit Declined: Ragozin Defense, Alek...  2025.05.01  00:01:12   \n",
       "\n",
       "  time_control                                              moves  \n",
       "0        180+0  [h2h3, e7e5, e2e4, g8f6, b1c3, f8b4, a2a3, b4a...  \n",
       "1        180+0  [d2d4, g8f6, c1g5, d7d5, g5f6, e7f6, e2e3, f8d...  \n",
       "2        180+0  [e2e4, c7c5, g1f3, d7d6, d2d4, c5d4, f3d4, g8f...  \n",
       "3        180+0  [e2e4, e7e5, g1f3, b8c6, f1b5, a7a6, b5a4, d7d...  \n",
       "4        180+2  [g1f3, d7d5, d2d4, g8f6, c2c4, e7e6, b1c3, f8b...  "
      ]
     },
     "metadata": {},
     "output_type": "display_data"
    }
   ],
   "source": [
    "ELITE_PGN = Path(\"/Users/nicholasvega/Downloads/chess-opening-recommender/src/data/lichess_elite_2025-05.pgn\")\n",
    "\n",
    "import time\n",
    "start = time.time()\n",
    "elite_df = parse_elite_pgn_fast(ELITE_PGN, n_games=500)\n",
    "print(f\"Fast parse took {time.time() - start:.1f}s — parsed {len(elite_df)} games\")\n",
    "display(elite_df.head())\n",
    "\n",
    "# save elite games to CSV\n",
    "elite_df.to_parquet(DATA_DIR / \"lichess_elite_2025-05.parquet\")"
   ]
  },
  {
   "cell_type": "markdown",
   "id": "7551f9a2",
   "metadata": {},
   "source": [
    "## 1.3 Fetch user profile "
   ]
  },
  {
   "cell_type": "code",
   "execution_count": null,
   "id": "6e19f217",
   "metadata": {},
   "outputs": [],
   "source": [
    "def get_user_profile(username: str) -> dict:\n",
    "    url = f\"https://lichess.org/api/user/{username}\"\n",
    "    r = requests.get(url, headers=HEADERS, timeout=10)\n",
    "    r.raise_for_status()\n",
    "    return r.json()"
   ]
  },
  {
   "cell_type": "markdown",
   "id": "58e1f3aa",
   "metadata": {},
   "source": [
    "Example"
   ]
  },
  {
   "cell_type": "code",
   "execution_count": null,
   "id": "396539d9",
   "metadata": {},
   "outputs": [],
   "source": [
    "import json"
   ]
  },
  {
   "cell_type": "code",
   "execution_count": null,
   "id": "8749f527",
   "metadata": {},
   "outputs": [
    {
     "name": "stdout",
     "output_type": "stream",
     "text": [
      "Current ratings: {'ultraBullet': 1607, 'bullet': 2686, 'blitz': 2449, 'rapid': 2447, 'classical': 1500, 'correspondence': 1500, 'chess960': 2141, 'puzzle': 2519}\n",
      "Total games played: {'ultraBullet': 106, 'bullet': 291, 'blitz': 7446, 'rapid': 127, 'classical': 0, 'correspondence': 0, 'chess960': 406, 'puzzle': 522}\n"
     ]
    }
   ],
   "source": [
    "profile = get_user_profile(USERNAME)\n",
    "\n",
    "(profile_path := DATA_DIR / f\"{USERNAME}_profile.json\").write_text(\n",
    "    json.dumps(profile, indent=2), encoding=\"utf-8\"\n",
    ")\n",
    "\n",
    "ratings = { fmt: v[\"rating\"] \n",
    "            for fmt, v in profile[\"perfs\"].items() \n",
    "            if \"rating\" in v }\n",
    "print(\"Current ratings:\", ratings)\n",
    "\n",
    "play_counts = { fmt: v[\"games\"] \n",
    "                for fmt, v in profile[\"perfs\"].items() \n",
    "                if \"games\" in v }\n",
    "print(\"Total games played:\", play_counts)"
   ]
  }
 ],
 "metadata": {
  "kernelspec": {
   "display_name": "chess-opening-recommender-LtfoShBY-py3.11",
   "language": "python",
   "name": "python3"
  },
  "language_info": {
   "codemirror_mode": {
    "name": "ipython",
    "version": 3
   },
   "file_extension": ".py",
   "mimetype": "text/x-python",
   "name": "python",
   "nbconvert_exporter": "python",
   "pygments_lexer": "ipython3",
   "version": "3.11.12"
  }
 },
 "nbformat": 4,
 "nbformat_minor": 5
}
