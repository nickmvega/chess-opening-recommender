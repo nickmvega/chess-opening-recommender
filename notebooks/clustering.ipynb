{
 "cells": [
  {
   "cell_type": "markdown",
   "id": "7feae374",
   "metadata": {},
   "source": [
    "# Chess Opening Recommender: Style Matching & Clustering\n",
    "\n",
    "## Overview  \n",
    "In this phase, we take the **per‑player style vectors** computed in Phase 2 and find which **elite players** our target user most closely resembles. We will:\n",
    "\n",
    "1. Build a style database of reference (elite) players.  \n",
    "2. Optionally visualize the “style space” with PCA.  \n",
    "3. Cluster elite players into style archetypes.  \n",
    "4. Compute distances between the user’s vector and each elite player to identify top stylistic neighbors.\n",
    "\n",
    "## Goal  \n",
    "- Identify a small set of **style peers** among stronger players whose openings we will use.\n",
    "\n",
    "## Purpose  \n",
    "- Translate raw style metrics into actionable comparisons.  \n",
    "- Lay the groundwork for personalized opening recommendations based on stylistic similarity.\n"
   ]
  },
  {
   "cell_type": "code",
   "execution_count": 8,
   "id": "0baee4ae",
   "metadata": {},
   "outputs": [],
   "source": [
    "import pandas as pd\n",
    "import numpy as np\n",
    "import matplotlib.pyplot as plt\n",
    "from sklearn.decomposition import PCA\n",
    "from sklearn.preprocessing import StandardScaler\n",
    "from sklearn.cluster import KMeans\n",
    "from sklearn.metrics import pairwise_distances\n",
    "from tqdm import tqdm\n",
    "from pathlib import Path"
   ]
  },
  {
   "cell_type": "code",
   "execution_count": 9,
   "id": "40c060ad",
   "metadata": {},
   "outputs": [],
   "source": [
    "DATA_DIR = Path(\"/Users/nicholasvega/Downloads/chess-opening-recommender/src/data\")\n",
    "USER_STYLE_CSV = DATA_DIR / \"Chessanonymous1_style_vector.csv\"\n",
    "ELITE_STYLE_CSV = DATA_DIR / \"elite_style_vectors.csv\""
   ]
  },
  {
   "cell_type": "code",
   "execution_count": 10,
   "id": "6ee37c09",
   "metadata": {},
   "outputs": [],
   "source": [
    "user_style_df = pd.read_csv(USER_STYLE_CSV, index_col=0)    \n",
    "user_style_series = user_style_df['value']                \n",
    "\n",
    "elite_style_vectors = pd.read_csv(ELITE_STYLE_CSV)          "
   ]
  },
  {
   "cell_type": "markdown",
   "id": "95a302d1",
   "metadata": {},
   "source": [
    "### 3.1 Cluster Elite Style Vectors "
   ]
  },
  {
   "cell_type": "code",
   "execution_count": 15,
   "id": "f9cc3f5d",
   "metadata": {},
   "outputs": [],
   "source": [
    "import sys\n",
    "sys.path.append(\"/Users/nicholasvega/Downloads/chess-opening-recommender/src\")\n",
    "from recommender.clustering import cluster_styles, reduce_dimensions, find_style_neighbors"
   ]
  },
  {
   "cell_type": "code",
   "execution_count": null,
   "id": "7dfb1c6a",
   "metadata": {},
   "outputs": [
    {
     "name": "stdout",
     "output_type": "stream",
     "text": [
      "Players per cluster:\n",
      "cluster\n",
      "0    112\n",
      "1     62\n",
      "2     58\n",
      "3     41\n",
      "Name: count, dtype: int64\n"
     ]
    }
   ],
   "source": [
    "clustered_elite, scaler, kmeans_model = cluster_styles(\n",
    "    elite_style_vectors.drop(columns=['player']),  \n",
    "    n_clusters=4\n",
    ")\n",
    "\n",
    "clustered_elite['player'] = elite_style_vectors['player']\n",
    "\n",
    "print(\"Players per cluster:\")\n",
    "print(clustered_elite['cluster'].value_counts())"
   ]
  },
  {
   "cell_type": "markdown",
   "id": "05f7ef96",
   "metadata": {},
   "source": [
    "### 3.2 Find User's Top Stylistic Neighbors "
   ]
  },
  {
   "cell_type": "code",
   "execution_count": 20,
   "id": "2c2230d1",
   "metadata": {},
   "outputs": [
    {
     "name": "stdout",
     "output_type": "stream",
     "text": [
      "Top 5 stylistic peers:\n"
     ]
    },
    {
     "name": "stderr",
     "output_type": "stream",
     "text": [
      "/Users/nicholasvega/Library/Caches/pypoetry/virtualenvs/chess-opening-recommender-LtfoShBY-py3.11/lib/python3.11/site-packages/sklearn/utils/validation.py:2749: UserWarning: X does not have valid feature names, but StandardScaler was fitted with feature names\n",
      "  warnings.warn(\n"
     ]
    },
    {
     "data": {
      "text/html": [
       "<div>\n",
       "<style scoped>\n",
       "    .dataframe tbody tr th:only-of-type {\n",
       "        vertical-align: middle;\n",
       "    }\n",
       "\n",
       "    .dataframe tbody tr th {\n",
       "        vertical-align: top;\n",
       "    }\n",
       "\n",
       "    .dataframe thead th {\n",
       "        text-align: right;\n",
       "    }\n",
       "</style>\n",
       "<table border=\"1\" class=\"dataframe\">\n",
       "  <thead>\n",
       "    <tr style=\"text-align: right;\">\n",
       "      <th></th>\n",
       "      <th>player</th>\n",
       "      <th>distance</th>\n",
       "    </tr>\n",
       "  </thead>\n",
       "  <tbody>\n",
       "    <tr>\n",
       "      <th>0</th>\n",
       "      <td>Attack2GM</td>\n",
       "      <td>0.677016</td>\n",
       "    </tr>\n",
       "    <tr>\n",
       "      <th>1</th>\n",
       "      <td>Neftegor</td>\n",
       "      <td>0.725788</td>\n",
       "    </tr>\n",
       "    <tr>\n",
       "      <th>2</th>\n",
       "      <td>Arteler</td>\n",
       "      <td>0.790166</td>\n",
       "    </tr>\n",
       "    <tr>\n",
       "      <th>3</th>\n",
       "      <td>Sakh_chess_2</td>\n",
       "      <td>0.823168</td>\n",
       "    </tr>\n",
       "    <tr>\n",
       "      <th>4</th>\n",
       "      <td>rtahmass</td>\n",
       "      <td>0.913448</td>\n",
       "    </tr>\n",
       "  </tbody>\n",
       "</table>\n",
       "</div>"
      ],
      "text/plain": [
       "         player  distance\n",
       "0     Attack2GM  0.677016\n",
       "1      Neftegor  0.725788\n",
       "2       Arteler  0.790166\n",
       "3  Sakh_chess_2  0.823168\n",
       "4      rtahmass  0.913448"
      ]
     },
     "metadata": {},
     "output_type": "display_data"
    }
   ],
   "source": [
    "top_peers = find_style_neighbors(\n",
    "    user_vector=user_style_series,\n",
    "    style_vectors=clustered_elite[['player'] + \n",
    "                                   [c for c in clustered_elite.columns if c not in ['player','cluster']]],\n",
    "    scaler=scaler,\n",
    "    top_n=5\n",
    ")\n",
    "\n",
    "print(\"Top 5 stylistic peers:\")\n",
    "display(top_peers)"
   ]
  }
 ],
 "metadata": {
  "kernelspec": {
   "display_name": "chess-opening-recommender-LtfoShBY-py3.11",
   "language": "python",
   "name": "python3"
  },
  "language_info": {
   "codemirror_mode": {
    "name": "ipython",
    "version": 3
   },
   "file_extension": ".py",
   "mimetype": "text/x-python",
   "name": "python",
   "nbconvert_exporter": "python",
   "pygments_lexer": "ipython3",
   "version": "3.11.12"
  }
 },
 "nbformat": 4,
 "nbformat_minor": 5
}
